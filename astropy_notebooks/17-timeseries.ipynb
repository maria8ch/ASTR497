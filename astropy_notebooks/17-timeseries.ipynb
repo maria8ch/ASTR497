{
 "cells": [
  {
   "cell_type": "markdown",
   "metadata": {},
   "source": [
    "# Time series representation and analysis\n",
    "\n",
    "The [astropy.timeseries](http://docs.astropy.org/en/stable/timeseries/index.html) sub-package is a relatively new component of astropy which provides a framework for representing time series, and includes some initial analysis tools (but this is expected to grow over time)."
   ]
  },
  {
   "cell_type": "markdown",
   "metadata": {},
   "source": [
    "\n",
    "<section class=\"objectives panel panel-warning\">\n",
    "<div class=\"panel-heading\">\n",
    "<h2><span class=\"fa fa-certificate\"></span> Objectives</h2>\n",
    "</div>\n",
    "\n",
    "\n",
    "<div class=\"panel-body\">\n",
    "\n",
    "<ul>\n",
    "<li>Create time series</li>\n",
    "<li>Access data and times</li>\n",
    "<li>Relative time series</li>\n",
    "<li>Combining time series</li>\n",
    "<li>Sorting time series</li>\n",
    "<li>Folding time series</li>\n",
    "<li>Periodogram analysis</li>\n",
    "<li>Reading in data</li>\n",
    "</ul>\n",
    "\n",
    "</div>\n",
    "\n",
    "</section>\n"
   ]
  },
  {
   "cell_type": "markdown",
   "metadata": {},
   "source": [
    "## Documentation\n",
    "\n",
    "This notebook only shows a subset of the functionality in astropy.timeseries. For more information about the features presented below as well as other available features, you can read the\n",
    "[astropy.timeseries documentation](https://docs.astropy.org/en/stable/timeseries/)."
   ]
  },
  {
   "cell_type": "code",
   "execution_count": 1,
   "metadata": {},
   "outputs": [],
   "source": [
    "%matplotlib inline\n",
    "import matplotlib.pyplot as plt\n",
    "plt.rc('image', origin='lower')\n",
    "plt.rc('figure', figsize=(10, 6))"
   ]
  },
  {
   "cell_type": "markdown",
   "metadata": {},
   "source": [
    "## Creating time series\n",
    "\n",
    "The astropy.timeseries sub-package provides two main classes for representing time series, both of which are sub-classes of [QTable](http://docs.astropy.org/en/stable/api/astropy.table.QTable.html#astropy.table.QTable):\n",
    "\n",
    "* [TimeSeries](http://docs.astropy.org/en/stable/api/astropy.timeseries.TimeSeries.html#astropy.timeseries.TimeSeries) to represent a series of measurements at different (and exact) times\n",
    "* [BinnedTimeSeries](http://docs.astropy.org/en/stable/api/astropy.timeseries.BinnedTimeSeries.html#astropy.timeseries.BinnedTimeSeries), to represent a series of measurements in different time bins.\n",
    "\n",
    "In most cases, [TimeSeries](http://docs.astropy.org/en/stable/api/astropy.timeseries.TimeSeries.html#astropy.timeseries.TimeSeries) might be enough unless you need to treat the finite bin sizes carefully (as for example in X-ray analysis). In this tutorial we will focus on TimeSeries, but if you are interested in representing binned time series, you can take a look at the [astropy.timeseries documentation](http://docs.astropy.org/en/stable/timeseries/index.html).\n",
    "\n",
    "Let's start off by creating a synthetic time series, and we will look later into how to read existing files."
   ]
  },
  {
   "cell_type": "code",
   "execution_count": 2,
   "metadata": {},
   "outputs": [],
   "source": [
    "from astropy.timeseries import TimeSeries"
   ]
  },
  {
   "cell_type": "markdown",
   "metadata": {},
   "source": [
    "There are several ways to initialize a time series from scratch. One of the easiest ways if you are dealing with a regularly spaced time series is to specify the start time, the time between samples, and the number of samples:"
   ]
  },
  {
   "cell_type": "code",
   "execution_count": 3,
   "metadata": {},
   "outputs": [
    {
     "data": {
      "text/html": [
       "<i>TimeSeries length=5</i>\n",
       "<table id=\"table4642772688\" class=\"table-striped table-bordered table-condensed\">\n",
       "<thead><tr><th>time</th></tr></thead>\n",
       "<thead><tr><th>object</th></tr></thead>\n",
       "<tr><td>2016-03-22T12:30:31.000</td></tr>\n",
       "<tr><td>2016-03-22T12:30:34.000</td></tr>\n",
       "<tr><td>2016-03-22T12:30:37.000</td></tr>\n",
       "<tr><td>2016-03-22T12:30:40.000</td></tr>\n",
       "<tr><td>2016-03-22T12:30:43.000</td></tr>\n",
       "</table>"
      ],
      "text/plain": [
       "<TimeSeries length=5>\n",
       "          time         \n",
       "         object        \n",
       "-----------------------\n",
       "2016-03-22T12:30:31.000\n",
       "2016-03-22T12:30:34.000\n",
       "2016-03-22T12:30:37.000\n",
       "2016-03-22T12:30:40.000\n",
       "2016-03-22T12:30:43.000"
      ]
     },
     "execution_count": 3,
     "metadata": {},
     "output_type": "execute_result"
    }
   ],
   "source": [
    "from astropy import units as u\n",
    "ts1 = TimeSeries(time_start='2016-03-22T12:30:31', time_delta=3*u.s, n_samples=5)\n",
    "ts1"
   ]
  },
  {
   "cell_type": "markdown",
   "metadata": {},
   "source": [
    "Another way is to specify the times at which the measurements were made:"
   ]
  },
  {
   "cell_type": "code",
   "execution_count": 4,
   "metadata": {},
   "outputs": [
    {
     "data": {
      "text/html": [
       "<i>TimeSeries length=3</i>\n",
       "<table id=\"table4662994960\" class=\"table-striped table-bordered table-condensed\">\n",
       "<thead><tr><th>time</th></tr></thead>\n",
       "<thead><tr><th>object</th></tr></thead>\n",
       "<tr><td>2016-03-22T12:30:30.000</td></tr>\n",
       "<tr><td>2016-03-22T12:30:38.000</td></tr>\n",
       "<tr><td>2016-03-22T12:30:40.000</td></tr>\n",
       "</table>"
      ],
      "text/plain": [
       "<TimeSeries length=3>\n",
       "          time         \n",
       "         object        \n",
       "-----------------------\n",
       "2016-03-22T12:30:30.000\n",
       "2016-03-22T12:30:38.000\n",
       "2016-03-22T12:30:40.000"
      ]
     },
     "execution_count": 4,
     "metadata": {},
     "output_type": "execute_result"
    }
   ],
   "source": [
    "ts2 = TimeSeries(time=['2016-03-22T12:30:30', '2016-03-22T12:30:38', '2016-03-22T12:30:40'])\n",
    "ts2"
   ]
  },
  {
   "cell_type": "markdown",
   "metadata": {},
   "source": [
    "In the above cases, we just passed strings to the ``time=`` option, but this is actually a shortcut - the most general way to create the time series which provides the most control is to pass a Time object (from astropy.time):"
   ]
  },
  {
   "cell_type": "code",
   "execution_count": 6,
   "metadata": {},
   "outputs": [
    {
     "data": {
      "text/html": [
       "<i>TimeSeries length=6</i>\n",
       "<table id=\"table4663526224\" class=\"table-striped table-bordered table-condensed\">\n",
       "<thead><tr><th>time</th></tr></thead>\n",
       "<thead><tr><th>object</th></tr></thead>\n",
       "<tr><td>50000.0</td></tr>\n",
       "<tr><td>50200.0</td></tr>\n",
       "<tr><td>50400.0</td></tr>\n",
       "<tr><td>50600.0</td></tr>\n",
       "<tr><td>50800.0</td></tr>\n",
       "<tr><td>51000.0</td></tr>\n",
       "</table>"
      ],
      "text/plain": [
       "<TimeSeries length=6>\n",
       "  time \n",
       " object\n",
       "-------\n",
       "50000.0\n",
       "50200.0\n",
       "50400.0\n",
       "50600.0\n",
       "50800.0\n",
       "51000.0"
      ]
     },
     "execution_count": 6,
     "metadata": {},
     "output_type": "execute_result"
    }
   ],
   "source": [
    "import numpy as np\n",
    "from astropy.time import Time\n",
    "time = Time(np.linspace(50000, 51000, 6), format='mjd', scale='tdb')\n",
    "ts3 = TimeSeries(time=time)\n",
    "ts3"
   ]
  },
  {
   "cell_type": "markdown",
   "metadata": {},
   "source": [
    "Once the time series has been initialized, you can add columns to it as if it was a table:"
   ]
  },
  {
   "cell_type": "code",
   "execution_count": 7,
   "metadata": {},
   "outputs": [
    {
     "data": {
      "text/html": [
       "<i>TimeSeries length=6</i>\n",
       "<table id=\"table4663526224\" class=\"table-striped table-bordered table-condensed\">\n",
       "<thead><tr><th>time</th><th>flux</th><th>fluxerr</th></tr></thead>\n",
       "<thead><tr><th></th><th>mJy</th><th>mJy</th></tr></thead>\n",
       "<thead><tr><th>object</th><th>float64</th><th>float64</th></tr></thead>\n",
       "<tr><td>50000.0</td><td>1.0</td><td>0.1</td></tr>\n",
       "<tr><td>50200.0</td><td>4.0</td><td>0.2</td></tr>\n",
       "<tr><td>50400.0</td><td>3.0</td><td>0.2</td></tr>\n",
       "<tr><td>50600.0</td><td>2.0</td><td>0.1</td></tr>\n",
       "<tr><td>50800.0</td><td>1.0</td><td>0.1</td></tr>\n",
       "<tr><td>51000.0</td><td>3.0</td><td>0.2</td></tr>\n",
       "</table>"
      ],
      "text/plain": [
       "<TimeSeries length=6>\n",
       "  time    flux  fluxerr\n",
       "          mJy     mJy  \n",
       " object float64 float64\n",
       "------- ------- -------\n",
       "50000.0     1.0     0.1\n",
       "50200.0     4.0     0.2\n",
       "50400.0     3.0     0.2\n",
       "50600.0     2.0     0.1\n",
       "50800.0     1.0     0.1\n",
       "51000.0     3.0     0.2"
      ]
     },
     "execution_count": 7,
     "metadata": {},
     "output_type": "execute_result"
    }
   ],
   "source": [
    "ts3['flux'] = [1,4,3,2,1,3] * u.mJy\n",
    "ts3['fluxerr'] = [0.1, 0.2, 0.2, 0.1, 0.1, 0.2] * u.mJy\n",
    "ts3"
   ]
  },
  {
   "cell_type": "markdown",
   "metadata": {},
   "source": [
    "## Accessing data and times\n",
    "\n",
    "Data is accessed in the same way as for regular tables:"
   ]
  },
  {
   "cell_type": "code",
   "execution_count": 8,
   "metadata": {},
   "outputs": [
    {
     "data": {
      "text/plain": [
       "<Time object: scale='tdb' format='mjd' value=[50000. 50200. 50400. 50600. 50800. 51000.]>"
      ]
     },
     "execution_count": 8,
     "metadata": {},
     "output_type": "execute_result"
    }
   ],
   "source": [
    "ts3['time']"
   ]
  },
  {
   "cell_type": "code",
   "execution_count": 9,
   "metadata": {},
   "outputs": [
    {
     "data": {
      "text/latex": [
       "$[1,~4,~3,~2,~1,~3] \\; \\mathrm{mJy}$"
      ],
      "text/plain": [
       "<Quantity [1., 4., 3., 2., 1., 3.] mJy>"
      ]
     },
     "execution_count": 9,
     "metadata": {},
     "output_type": "execute_result"
    }
   ],
   "source": [
    "ts3['flux']"
   ]
  },
  {
   "cell_type": "code",
   "execution_count": 10,
   "metadata": {},
   "outputs": [
    {
     "data": {
      "text/html": [
       "<i>TimeSeries length=6</i>\n",
       "<table id=\"table4662197904\" class=\"table-striped table-bordered table-condensed\">\n",
       "<thead><tr><th>time</th><th>flux</th></tr></thead>\n",
       "<thead><tr><th></th><th>mJy</th></tr></thead>\n",
       "<thead><tr><th>object</th><th>float64</th></tr></thead>\n",
       "<tr><td>50000.0</td><td>1.0</td></tr>\n",
       "<tr><td>50200.0</td><td>4.0</td></tr>\n",
       "<tr><td>50400.0</td><td>3.0</td></tr>\n",
       "<tr><td>50600.0</td><td>2.0</td></tr>\n",
       "<tr><td>50800.0</td><td>1.0</td></tr>\n",
       "<tr><td>51000.0</td><td>3.0</td></tr>\n",
       "</table>"
      ],
      "text/plain": [
       "<TimeSeries length=6>\n",
       "  time    flux \n",
       "          mJy  \n",
       " object float64\n",
       "------- -------\n",
       "50000.0     1.0\n",
       "50200.0     4.0\n",
       "50400.0     3.0\n",
       "50600.0     2.0\n",
       "50800.0     1.0\n",
       "51000.0     3.0"
      ]
     },
     "execution_count": 10,
     "metadata": {},
     "output_type": "execute_result"
    }
   ],
   "source": [
    "ts3['time', 'flux']"
   ]
  },
  {
   "cell_type": "code",
   "execution_count": 15,
   "metadata": {},
   "outputs": [
    {
     "data": {
      "text/html": [
       "<i>Row index=0</i>\n",
       "<table id=\"table4663526224\">\n",
       "<thead><tr><th>time</th><th>flux</th><th>fluxerr</th></tr></thead>\n",
       "<thead><tr><th></th><th>mJy</th><th>mJy</th></tr></thead>\n",
       "<thead><tr><th>object</th><th>float64</th><th>float64</th></tr></thead>\n",
       "<tr><td>50000.0</td><td>1.0</td><td>0.1</td></tr>\n",
       "</table>"
      ],
      "text/plain": [
       "<Row index=0>\n",
       "  time    flux  fluxerr\n",
       "          mJy     mJy  \n",
       " object float64 float64\n",
       "------- ------- -------\n",
       "50000.0     1.0     0.1"
      ]
     },
     "execution_count": 15,
     "metadata": {},
     "output_type": "execute_result"
    }
   ],
   "source": [
    "ts3[0]"
   ]
  },
  {
   "cell_type": "code",
   "execution_count": 17,
   "metadata": {},
   "outputs": [
    {
     "data": {
      "text/html": [
       "<i>TimeSeries length=3</i>\n",
       "<table id=\"table4656840528\" class=\"table-striped table-bordered table-condensed\">\n",
       "<thead><tr><th>time</th><th>flux</th><th>fluxerr</th></tr></thead>\n",
       "<thead><tr><th></th><th>mJy</th><th>mJy</th></tr></thead>\n",
       "<thead><tr><th>object</th><th>float64</th><th>float64</th></tr></thead>\n",
       "<tr><td>50000.0</td><td>1.0</td><td>0.1</td></tr>\n",
       "<tr><td>50200.0</td><td>4.0</td><td>0.2</td></tr>\n",
       "<tr><td>50400.0</td><td>3.0</td><td>0.2</td></tr>\n",
       "</table>"
      ],
      "text/plain": [
       "<TimeSeries length=3>\n",
       "  time    flux  fluxerr\n",
       "          mJy     mJy  \n",
       " object float64 float64\n",
       "------- ------- -------\n",
       "50000.0     1.0     0.1\n",
       "50200.0     4.0     0.2\n",
       "50400.0     3.0     0.2"
      ]
     },
     "execution_count": 17,
     "metadata": {},
     "output_type": "execute_result"
    }
   ],
   "source": [
    "ts3[0:3]"
   ]
  },
  {
   "cell_type": "code",
   "execution_count": 11,
   "metadata": {},
   "outputs": [
    {
     "data": {
      "text/latex": [
       "$1 \\; \\mathrm{mJy}$"
      ],
      "text/plain": [
       "<Quantity 1. mJy>"
      ]
     },
     "execution_count": 11,
     "metadata": {},
     "output_type": "execute_result"
    }
   ],
   "source": [
    "ts3[0]['flux']"
   ]
  },
  {
   "cell_type": "markdown",
   "metadata": {},
   "source": [
    "For the time column, it is also possible to use the following shortcut:"
   ]
  },
  {
   "cell_type": "code",
   "execution_count": 12,
   "metadata": {},
   "outputs": [
    {
     "data": {
      "text/plain": [
       "<Time object: scale='tdb' format='mjd' value=[50000. 50200. 50400. 50600. 50800. 51000.]>"
      ]
     },
     "execution_count": 12,
     "metadata": {},
     "output_type": "execute_result"
    }
   ],
   "source": [
    "ts3.time"
   ]
  },
  {
   "cell_type": "markdown",
   "metadata": {},
   "source": [
    "Since this is a regular time object, you can convert it to different time scales and formats:"
   ]
  },
  {
   "cell_type": "code",
   "execution_count": 13,
   "metadata": {},
   "outputs": [
    {
     "data": {
      "text/plain": [
       "<Time object: scale='tai' format='mjd' value=[49999.99962752 50199.99962748 50399.99962752 50599.99962749\n",
       " 50799.99962751 50999.9996275 ]>"
      ]
     },
     "execution_count": 13,
     "metadata": {},
     "output_type": "execute_result"
    }
   ],
   "source": [
    "ts3.time.tai"
   ]
  },
  {
   "cell_type": "code",
   "execution_count": 14,
   "metadata": {},
   "outputs": [
    {
     "data": {
      "text/plain": [
       "array(['1995-10-10T00:00:00.000', '1996-04-27T00:00:00.000',\n",
       "       '1996-11-13T00:00:00.000', '1997-06-01T00:00:00.000',\n",
       "       '1997-12-18T00:00:00.000', '1998-07-06T00:00:00.000'], dtype='<U23')"
      ]
     },
     "execution_count": 14,
     "metadata": {},
     "output_type": "execute_result"
    }
   ],
   "source": [
    "ts3.time.isot"
   ]
  },
  {
   "cell_type": "markdown",
   "metadata": {},
   "source": [
    "Note that this doesn't change the time in the time series, it just returns a new Time object. On the other hand, you can change the default format by setting ``.format``:"
   ]
  },
  {
   "cell_type": "code",
   "execution_count": 18,
   "metadata": {},
   "outputs": [
    {
     "data": {
      "text/html": [
       "<i>TimeSeries length=6</i>\n",
       "<table id=\"table4663526224\" class=\"table-striped table-bordered table-condensed\">\n",
       "<thead><tr><th>time</th><th>flux</th><th>fluxerr</th></tr></thead>\n",
       "<thead><tr><th></th><th>mJy</th><th>mJy</th></tr></thead>\n",
       "<thead><tr><th>object</th><th>float64</th><th>float64</th></tr></thead>\n",
       "<tr><td>50000.0</td><td>1.0</td><td>0.1</td></tr>\n",
       "<tr><td>50200.0</td><td>4.0</td><td>0.2</td></tr>\n",
       "<tr><td>50400.0</td><td>3.0</td><td>0.2</td></tr>\n",
       "<tr><td>50600.0</td><td>2.0</td><td>0.1</td></tr>\n",
       "<tr><td>50800.0</td><td>1.0</td><td>0.1</td></tr>\n",
       "<tr><td>51000.0</td><td>3.0</td><td>0.2</td></tr>\n",
       "</table>"
      ],
      "text/plain": [
       "<TimeSeries length=6>\n",
       "  time    flux  fluxerr\n",
       "          mJy     mJy  \n",
       " object float64 float64\n",
       "------- ------- -------\n",
       "50000.0     1.0     0.1\n",
       "50200.0     4.0     0.2\n",
       "50400.0     3.0     0.2\n",
       "50600.0     2.0     0.1\n",
       "50800.0     1.0     0.1\n",
       "51000.0     3.0     0.2"
      ]
     },
     "execution_count": 18,
     "metadata": {},
     "output_type": "execute_result"
    }
   ],
   "source": [
    "ts3"
   ]
  },
  {
   "cell_type": "code",
   "execution_count": 19,
   "metadata": {},
   "outputs": [
    {
     "data": {
      "text/html": [
       "<i>TimeSeries length=6</i>\n",
       "<table id=\"table4663526224\" class=\"table-striped table-bordered table-condensed\">\n",
       "<thead><tr><th>time</th><th>flux</th><th>fluxerr</th></tr></thead>\n",
       "<thead><tr><th></th><th>mJy</th><th>mJy</th></tr></thead>\n",
       "<thead><tr><th>object</th><th>float64</th><th>float64</th></tr></thead>\n",
       "<tr><td>1995-10-10T00:00:00.000</td><td>1.0</td><td>0.1</td></tr>\n",
       "<tr><td>1996-04-27T00:00:00.000</td><td>4.0</td><td>0.2</td></tr>\n",
       "<tr><td>1996-11-13T00:00:00.000</td><td>3.0</td><td>0.2</td></tr>\n",
       "<tr><td>1997-06-01T00:00:00.000</td><td>2.0</td><td>0.1</td></tr>\n",
       "<tr><td>1997-12-18T00:00:00.000</td><td>1.0</td><td>0.1</td></tr>\n",
       "<tr><td>1998-07-06T00:00:00.000</td><td>3.0</td><td>0.2</td></tr>\n",
       "</table>"
      ],
      "text/plain": [
       "<TimeSeries length=6>\n",
       "          time            flux  fluxerr\n",
       "                          mJy     mJy  \n",
       "         object         float64 float64\n",
       "----------------------- ------- -------\n",
       "1995-10-10T00:00:00.000     1.0     0.1\n",
       "1996-04-27T00:00:00.000     4.0     0.2\n",
       "1996-11-13T00:00:00.000     3.0     0.2\n",
       "1997-06-01T00:00:00.000     2.0     0.1\n",
       "1997-12-18T00:00:00.000     1.0     0.1\n",
       "1998-07-06T00:00:00.000     3.0     0.2"
      ]
     },
     "execution_count": 19,
     "metadata": {},
     "output_type": "execute_result"
    }
   ],
   "source": [
    "ts3.time.format = 'isot'\n",
    "ts3"
   ]
  },
  {
   "cell_type": "markdown",
   "metadata": {},
   "source": [
    "## Relative time series\n",
    "\n",
    "If you want to work with relative time series, you can do the following:"
   ]
  },
  {
   "cell_type": "code",
   "execution_count": 20,
   "metadata": {},
   "outputs": [
    {
     "data": {
      "text/html": [
       "<i>TimeSeries length=3</i>\n",
       "<table id=\"table4657262480\" class=\"table-striped table-bordered table-condensed\">\n",
       "<thead><tr><th>time</th></tr></thead>\n",
       "<thead><tr><th>object</th></tr></thead>\n",
       "<tr><td>1.1574074074074073e-05</td></tr>\n",
       "<tr><td>3.472222222222222e-05</td></tr>\n",
       "<tr><td>4.6296296296296294e-05</td></tr>\n",
       "</table>"
      ],
      "text/plain": [
       "<TimeSeries length=3>\n",
       "         time         \n",
       "        object        \n",
       "----------------------\n",
       "1.1574074074074073e-05\n",
       " 3.472222222222222e-05\n",
       "4.6296296296296294e-05"
      ]
     },
     "execution_count": 20,
     "metadata": {},
     "output_type": "execute_result"
    }
   ],
   "source": [
    "from astropy.time import TimeDelta\n",
    "ts4 = TimeSeries(time=TimeDelta([1, 3, 4] * u.s))\n",
    "ts4"
   ]
  },
  {
   "cell_type": "markdown",
   "metadata": {},
   "source": [
    "and this can also be done by taking a time series in absolute times and subtracting a reference time:"
   ]
  },
  {
   "cell_type": "code",
   "execution_count": 21,
   "metadata": {},
   "outputs": [
    {
     "data": {
      "text/html": [
       "<i>TimeSeries length=6</i>\n",
       "<table id=\"table4671453584\" class=\"table-striped table-bordered table-condensed\">\n",
       "<thead><tr><th>time</th><th>flux</th><th>fluxerr</th></tr></thead>\n",
       "<thead><tr><th></th><th>mJy</th><th>mJy</th></tr></thead>\n",
       "<thead><tr><th>object</th><th>float64</th><th>float64</th></tr></thead>\n",
       "<tr><td>0.0</td><td>1.0</td><td>0.1</td></tr>\n",
       "<tr><td>200.0</td><td>4.0</td><td>0.2</td></tr>\n",
       "<tr><td>400.0</td><td>3.0</td><td>0.2</td></tr>\n",
       "<tr><td>600.0</td><td>2.0</td><td>0.1</td></tr>\n",
       "<tr><td>800.0</td><td>1.0</td><td>0.1</td></tr>\n",
       "<tr><td>1000.0</td><td>3.0</td><td>0.2</td></tr>\n",
       "</table>"
      ],
      "text/plain": [
       "<TimeSeries length=6>\n",
       " time    flux  fluxerr\n",
       "         mJy     mJy  \n",
       "object float64 float64\n",
       "------ ------- -------\n",
       "   0.0     1.0     0.1\n",
       " 200.0     4.0     0.2\n",
       " 400.0     3.0     0.2\n",
       " 600.0     2.0     0.1\n",
       " 800.0     1.0     0.1\n",
       "1000.0     3.0     0.2"
      ]
     },
     "execution_count": 21,
     "metadata": {},
     "output_type": "execute_result"
    }
   ],
   "source": [
    "ts5 = TimeSeries(time=ts3.time - ts3.time[0], data = ts3['flux', 'fluxerr'])\n",
    "ts5"
   ]
  },
  {
   "cell_type": "markdown",
   "metadata": {},
   "source": [
    "## Combining time series\n",
    "\n",
    "Assuming that you have two time series objects with matching columns as well as another table which represents an additional column:"
   ]
  },
  {
   "cell_type": "code",
   "execution_count": 22,
   "metadata": {},
   "outputs": [],
   "source": [
    "from astropy.table import Table\n",
    "\n",
    "ts_a = TimeSeries(time_start='2016-03-22T12:30:31',\n",
    "                  time_delta=3 * u.s,\n",
    "                  data={'flux': [1, 4, 5, 3, 2] * u.mJy})\n",
    "\n",
    "ts_b = TimeSeries(time_start='2016-03-22T12:50:31',\n",
    "                  time_delta=3 * u.s,\n",
    "                  data={'flux': [4, 3, 1, 2, 3] * u.mJy})\n",
    "\n",
    "data = Table(data={'temperature': [40., 41., 40., 39., 30.] * u.K})"
   ]
  },
  {
   "cell_type": "code",
   "execution_count": 27,
   "metadata": {},
   "outputs": [
    {
     "data": {
      "text/html": [
       "<i>TimeSeries length=5</i>\n",
       "<table id=\"table4671397200\" class=\"table-striped table-bordered table-condensed\">\n",
       "<thead><tr><th>time</th><th>flux</th></tr></thead>\n",
       "<thead><tr><th></th><th>mJy</th></tr></thead>\n",
       "<thead><tr><th>object</th><th>float64</th></tr></thead>\n",
       "<tr><td>2016-03-22T12:30:31.000</td><td>1.0</td></tr>\n",
       "<tr><td>2016-03-22T12:30:34.000</td><td>4.0</td></tr>\n",
       "<tr><td>2016-03-22T12:30:37.000</td><td>5.0</td></tr>\n",
       "<tr><td>2016-03-22T12:30:40.000</td><td>3.0</td></tr>\n",
       "<tr><td>2016-03-22T12:30:43.000</td><td>2.0</td></tr>\n",
       "</table>"
      ],
      "text/plain": [
       "<TimeSeries length=5>\n",
       "          time            flux \n",
       "                          mJy  \n",
       "         object         float64\n",
       "----------------------- -------\n",
       "2016-03-22T12:30:31.000     1.0\n",
       "2016-03-22T12:30:34.000     4.0\n",
       "2016-03-22T12:30:37.000     5.0\n",
       "2016-03-22T12:30:40.000     3.0\n",
       "2016-03-22T12:30:43.000     2.0"
      ]
     },
     "execution_count": 27,
     "metadata": {},
     "output_type": "execute_result"
    }
   ],
   "source": [
    "ts_a"
   ]
  },
  {
   "cell_type": "code",
   "execution_count": 28,
   "metadata": {},
   "outputs": [
    {
     "data": {
      "text/html": [
       "<i>TimeSeries length=5</i>\n",
       "<table id=\"table4671397456\" class=\"table-striped table-bordered table-condensed\">\n",
       "<thead><tr><th>time</th><th>flux</th></tr></thead>\n",
       "<thead><tr><th></th><th>mJy</th></tr></thead>\n",
       "<thead><tr><th>object</th><th>float64</th></tr></thead>\n",
       "<tr><td>2016-03-22T12:50:31.000</td><td>4.0</td></tr>\n",
       "<tr><td>2016-03-22T12:50:34.000</td><td>3.0</td></tr>\n",
       "<tr><td>2016-03-22T12:50:37.000</td><td>1.0</td></tr>\n",
       "<tr><td>2016-03-22T12:50:40.000</td><td>2.0</td></tr>\n",
       "<tr><td>2016-03-22T12:50:43.000</td><td>3.0</td></tr>\n",
       "</table>"
      ],
      "text/plain": [
       "<TimeSeries length=5>\n",
       "          time            flux \n",
       "                          mJy  \n",
       "         object         float64\n",
       "----------------------- -------\n",
       "2016-03-22T12:50:31.000     4.0\n",
       "2016-03-22T12:50:34.000     3.0\n",
       "2016-03-22T12:50:37.000     1.0\n",
       "2016-03-22T12:50:40.000     2.0\n",
       "2016-03-22T12:50:43.000     3.0"
      ]
     },
     "execution_count": 28,
     "metadata": {},
     "output_type": "execute_result"
    }
   ],
   "source": [
    "ts_b"
   ]
  },
  {
   "cell_type": "code",
   "execution_count": 29,
   "metadata": {},
   "outputs": [
    {
     "data": {
      "text/html": [
       "<i>Table length=5</i>\n",
       "<table id=\"table4671397584\" class=\"table-striped table-bordered table-condensed\">\n",
       "<thead><tr><th>temperature</th></tr></thead>\n",
       "<thead><tr><th>K</th></tr></thead>\n",
       "<thead><tr><th>float64</th></tr></thead>\n",
       "<tr><td>40.0</td></tr>\n",
       "<tr><td>41.0</td></tr>\n",
       "<tr><td>40.0</td></tr>\n",
       "<tr><td>39.0</td></tr>\n",
       "<tr><td>30.0</td></tr>\n",
       "</table>"
      ],
      "text/plain": [
       "<Table length=5>\n",
       "temperature\n",
       "     K     \n",
       "  float64  \n",
       "-----------\n",
       "       40.0\n",
       "       41.0\n",
       "       40.0\n",
       "       39.0\n",
       "       30.0"
      ]
     },
     "execution_count": 29,
     "metadata": {},
     "output_type": "execute_result"
    }
   ],
   "source": [
    "data"
   ]
  },
  {
   "cell_type": "markdown",
   "metadata": {},
   "source": [
    "There are different ways of combining these - for example you can stack one of the time series with the additional data 'horizontally', which means you preserve the number of rows but construct a new time series with more columns:"
   ]
  },
  {
   "cell_type": "code",
   "execution_count": 30,
   "metadata": {},
   "outputs": [],
   "source": [
    "from astropy.table import hstack, vstack"
   ]
  },
  {
   "cell_type": "code",
   "execution_count": 32,
   "metadata": {},
   "outputs": [
    {
     "data": {
      "text/html": [
       "<i>TimeSeries length=5</i>\n",
       "<table id=\"table4679509840\" class=\"table-striped table-bordered table-condensed\">\n",
       "<thead><tr><th>time</th><th>flux</th><th>temperature</th></tr></thead>\n",
       "<thead><tr><th></th><th>mJy</th><th>K</th></tr></thead>\n",
       "<thead><tr><th>object</th><th>float64</th><th>float64</th></tr></thead>\n",
       "<tr><td>2016-03-22T12:30:31.000</td><td>1.0</td><td>40.0</td></tr>\n",
       "<tr><td>2016-03-22T12:30:34.000</td><td>4.0</td><td>41.0</td></tr>\n",
       "<tr><td>2016-03-22T12:30:37.000</td><td>5.0</td><td>40.0</td></tr>\n",
       "<tr><td>2016-03-22T12:30:40.000</td><td>3.0</td><td>39.0</td></tr>\n",
       "<tr><td>2016-03-22T12:30:43.000</td><td>2.0</td><td>30.0</td></tr>\n",
       "</table>"
      ],
      "text/plain": [
       "<TimeSeries length=5>\n",
       "          time            flux  temperature\n",
       "                          mJy        K     \n",
       "         object         float64   float64  \n",
       "----------------------- ------- -----------\n",
       "2016-03-22T12:30:31.000     1.0        40.0\n",
       "2016-03-22T12:30:34.000     4.0        41.0\n",
       "2016-03-22T12:30:37.000     5.0        40.0\n",
       "2016-03-22T12:30:40.000     3.0        39.0\n",
       "2016-03-22T12:30:43.000     2.0        30.0"
      ]
     },
     "execution_count": 32,
     "metadata": {},
     "output_type": "execute_result"
    }
   ],
   "source": [
    "tsh = hstack([ts_a, data])\n",
    "tsh"
   ]
  },
  {
   "cell_type": "markdown",
   "metadata": {},
   "source": [
    "or you can stack the time series 'vertically' meaning that the columns are preserved but we make a new time series with all the rows from the original two time series:"
   ]
  },
  {
   "cell_type": "code",
   "execution_count": 38,
   "metadata": {},
   "outputs": [
    {
     "data": {
      "text/html": [
       "<i>TimeSeries length=10</i>\n",
       "<table id=\"table4671322704\" class=\"table-striped table-bordered table-condensed\">\n",
       "<thead><tr><th>time</th><th>flux</th></tr></thead>\n",
       "<thead><tr><th></th><th>mJy</th></tr></thead>\n",
       "<thead><tr><th>object</th><th>float64</th></tr></thead>\n",
       "<tr><td>2016-03-22T12:50:31.000</td><td>4.0</td></tr>\n",
       "<tr><td>2016-03-22T12:50:34.000</td><td>3.0</td></tr>\n",
       "<tr><td>2016-03-22T12:50:37.000</td><td>1.0</td></tr>\n",
       "<tr><td>2016-03-22T12:50:40.000</td><td>2.0</td></tr>\n",
       "<tr><td>2016-03-22T12:50:43.000</td><td>3.0</td></tr>\n",
       "<tr><td>2016-03-22T12:30:31.000</td><td>1.0</td></tr>\n",
       "<tr><td>2016-03-22T12:30:34.000</td><td>4.0</td></tr>\n",
       "<tr><td>2016-03-22T12:30:37.000</td><td>5.0</td></tr>\n",
       "<tr><td>2016-03-22T12:30:40.000</td><td>3.0</td></tr>\n",
       "<tr><td>2016-03-22T12:30:43.000</td><td>2.0</td></tr>\n",
       "</table>"
      ],
      "text/plain": [
       "<TimeSeries length=10>\n",
       "          time            flux \n",
       "                          mJy  \n",
       "         object         float64\n",
       "----------------------- -------\n",
       "2016-03-22T12:50:31.000     4.0\n",
       "2016-03-22T12:50:34.000     3.0\n",
       "2016-03-22T12:50:37.000     1.0\n",
       "2016-03-22T12:50:40.000     2.0\n",
       "2016-03-22T12:50:43.000     3.0\n",
       "2016-03-22T12:30:31.000     1.0\n",
       "2016-03-22T12:30:34.000     4.0\n",
       "2016-03-22T12:30:37.000     5.0\n",
       "2016-03-22T12:30:40.000     3.0\n",
       "2016-03-22T12:30:43.000     2.0"
      ]
     },
     "execution_count": 38,
     "metadata": {},
     "output_type": "execute_result"
    }
   ],
   "source": [
    "tsv = vstack([ts_b, ts_a])\n",
    "tsv"
   ]
  },
  {
   "cell_type": "code",
   "execution_count": 41,
   "metadata": {},
   "outputs": [
    {
     "data": {
      "text/html": [
       "<i>TimeSeries length=10</i>\n",
       "<table id=\"table4671322704\" class=\"table-striped table-bordered table-condensed\">\n",
       "<thead><tr><th>time</th><th>flux</th></tr></thead>\n",
       "<thead><tr><th></th><th>mJy</th></tr></thead>\n",
       "<thead><tr><th>object</th><th>float64</th></tr></thead>\n",
       "<tr><td>2016-03-22T12:30:31.000</td><td>1.0</td></tr>\n",
       "<tr><td>2016-03-22T12:30:34.000</td><td>4.0</td></tr>\n",
       "<tr><td>2016-03-22T12:30:37.000</td><td>5.0</td></tr>\n",
       "<tr><td>2016-03-22T12:30:40.000</td><td>3.0</td></tr>\n",
       "<tr><td>2016-03-22T12:30:43.000</td><td>2.0</td></tr>\n",
       "<tr><td>2016-03-22T12:50:31.000</td><td>4.0</td></tr>\n",
       "<tr><td>2016-03-22T12:50:34.000</td><td>3.0</td></tr>\n",
       "<tr><td>2016-03-22T12:50:37.000</td><td>1.0</td></tr>\n",
       "<tr><td>2016-03-22T12:50:40.000</td><td>2.0</td></tr>\n",
       "<tr><td>2016-03-22T12:50:43.000</td><td>3.0</td></tr>\n",
       "</table>"
      ],
      "text/plain": [
       "<TimeSeries length=10>\n",
       "          time            flux \n",
       "                          mJy  \n",
       "         object         float64\n",
       "----------------------- -------\n",
       "2016-03-22T12:30:31.000     1.0\n",
       "2016-03-22T12:30:34.000     4.0\n",
       "2016-03-22T12:30:37.000     5.0\n",
       "2016-03-22T12:30:40.000     3.0\n",
       "2016-03-22T12:30:43.000     2.0\n",
       "2016-03-22T12:50:31.000     4.0\n",
       "2016-03-22T12:50:34.000     3.0\n",
       "2016-03-22T12:50:37.000     1.0\n",
       "2016-03-22T12:50:40.000     2.0\n",
       "2016-03-22T12:50:43.000     3.0"
      ]
     },
     "execution_count": 41,
     "metadata": {},
     "output_type": "execute_result"
    }
   ],
   "source": [
    "tsv.sort('time')\n",
    "tsv"
   ]
  },
  {
   "cell_type": "markdown",
   "metadata": {},
   "source": [
    "## Sorting\n",
    "\n",
    "Since TimeSeries objects are just tables behind the hood, you can also sort them as you would a table:"
   ]
  },
  {
   "cell_type": "code",
   "execution_count": 36,
   "metadata": {},
   "outputs": [
    {
     "data": {
      "text/html": [
       "<i>TimeSeries length=10</i>\n",
       "<table id=\"table4679551504\" class=\"table-striped table-bordered table-condensed\">\n",
       "<thead><tr><th>time</th><th>flux</th></tr></thead>\n",
       "<thead><tr><th></th><th>mJy</th></tr></thead>\n",
       "<thead><tr><th>object</th><th>float64</th></tr></thead>\n",
       "<tr><td>2016-03-22T12:30:31.000</td><td>1.0</td></tr>\n",
       "<tr><td>2016-03-22T12:50:37.000</td><td>1.0</td></tr>\n",
       "<tr><td>2016-03-22T12:30:43.000</td><td>2.0</td></tr>\n",
       "<tr><td>2016-03-22T12:50:40.000</td><td>2.0</td></tr>\n",
       "<tr><td>2016-03-22T12:30:40.000</td><td>3.0</td></tr>\n",
       "<tr><td>2016-03-22T12:50:34.000</td><td>3.0</td></tr>\n",
       "<tr><td>2016-03-22T12:50:43.000</td><td>3.0</td></tr>\n",
       "<tr><td>2016-03-22T12:30:34.000</td><td>4.0</td></tr>\n",
       "<tr><td>2016-03-22T12:50:31.000</td><td>4.0</td></tr>\n",
       "<tr><td>2016-03-22T12:30:37.000</td><td>5.0</td></tr>\n",
       "</table>"
      ],
      "text/plain": [
       "<TimeSeries length=10>\n",
       "          time            flux \n",
       "                          mJy  \n",
       "         object         float64\n",
       "----------------------- -------\n",
       "2016-03-22T12:30:31.000     1.0\n",
       "2016-03-22T12:50:37.000     1.0\n",
       "2016-03-22T12:30:43.000     2.0\n",
       "2016-03-22T12:50:40.000     2.0\n",
       "2016-03-22T12:30:40.000     3.0\n",
       "2016-03-22T12:50:34.000     3.0\n",
       "2016-03-22T12:50:43.000     3.0\n",
       "2016-03-22T12:30:34.000     4.0\n",
       "2016-03-22T12:50:31.000     4.0\n",
       "2016-03-22T12:30:37.000     5.0"
      ]
     },
     "execution_count": 36,
     "metadata": {},
     "output_type": "execute_result"
    }
   ],
   "source": [
    "tsv.sort('flux')\n",
    "tsv"
   ]
  },
  {
   "cell_type": "markdown",
   "metadata": {},
   "source": [
    "## Folding\n",
    "\n",
    "A common operation with time series is 'folding' by assuming a given period. Let's start off with a synthetic dataset:"
   ]
  },
  {
   "cell_type": "code",
   "execution_count": 42,
   "metadata": {},
   "outputs": [],
   "source": [
    "ts_synth = TimeSeries(time_start='2019-01-01T00:00:00',\n",
    "                      time_delta=np.random.uniform(0, 10, 1000) * u.min)\n",
    "ts_synth['flux'] = np.cos(2 * np.pi * (ts_synth.time.mjd / 0.49822))\n",
    "ts_synth['flux'] += np.random.normal(0, 0.2, 1000)"
   ]
  },
  {
   "cell_type": "code",
   "execution_count": 44,
   "metadata": {},
   "outputs": [
    {
     "data": {
      "image/png": "[encoded data removed]",
      "text/plain": [
       "<Figure size 720x432 with 1 Axes>"
      ]
     },
     "metadata": {
      "needs_background": "light"
     },
     "output_type": "display_data"
    }
   ],
   "source": [
    "plt.plot(ts_synth.time.mjd, ts_synth['flux'], 'o');"
   ]
  },
  {
   "cell_type": "markdown",
   "metadata": {},
   "source": [
    "Folding is done with the [TimeSeries.fold](http://docs.astropy.org/en/stable/api/astropy.timeseries.TimeSeries.html#astropy.timeseries.TimeSeries.fold) method:"
   ]
  },
  {
   "cell_type": "code",
   "execution_count": 45,
   "metadata": {},
   "outputs": [
    {
     "data": {
      "text/html": [
       "<i>TimeSeries length=1000</i>\n",
       "<table id=\"table4679631440\" class=\"table-striped table-bordered table-condensed\">\n",
       "<thead><tr><th>time</th><th>flux</th></tr></thead>\n",
       "<thead><tr><th>object</th><th>float64</th></tr></thead>\n",
       "<tr><td>0.0</td><td>0.6051802949907192</td></tr>\n",
       "<tr><td>0.005248601950405937</td><td>0.829149333708596</td></tr>\n",
       "<tr><td>0.010955730054515276</td><td>0.7307510851129585</td></tr>\n",
       "<tr><td>0.01654649932908468</td><td>0.574636800383557</td></tr>\n",
       "<tr><td>0.01761229533585484</td><td>1.093116277322885</td></tr>\n",
       "<tr><td>0.023444153923241833</td><td>0.7407016130994658</td></tr>\n",
       "<tr><td>0.027767414550486366</td><td>1.3156945314190804</td></tr>\n",
       "<tr><td>0.031493534221127883</td><td>1.0082479983026937</td></tr>\n",
       "<tr><td>0.032264304556881764</td><td>0.5488446377286036</td></tr>\n",
       "<tr><td>0.034673749769606146</td><td>0.770273355827187</td></tr>\n",
       "<tr><td>...</td><td>...</td></tr>\n",
       "<tr><td>-0.05406336289750058</td><td>0.08203196206119648</td></tr>\n",
       "<tr><td>-0.04876963240310395</td><td>0.3455610653490189</td></tr>\n",
       "<tr><td>-0.04835776204339633</td><td>0.3004142106843401</td></tr>\n",
       "<tr><td>-0.044697376776433866</td><td>0.2827644235002205</td></tr>\n",
       "<tr><td>-0.04381336014931439</td><td>0.07464808559919256</td></tr>\n",
       "<tr><td>-0.04350859099431402</td><td>0.2578089920019343</td></tr>\n",
       "<tr><td>-0.04163084393620205</td><td>0.6504684234751714</td></tr>\n",
       "<tr><td>-0.04112532465297885</td><td>0.10117368649593633</td></tr>\n",
       "<tr><td>-0.03671435032707307</td><td>0.6644493670973721</td></tr>\n",
       "<tr><td>-0.03500384083434786</td><td>0.16578308350345994</td></tr>\n",
       "</table>"
      ],
      "text/plain": [
       "<TimeSeries length=1000>\n",
       "         time                 flux       \n",
       "        object              float64      \n",
       "--------------------- -------------------\n",
       "                  0.0  0.6051802949907192\n",
       " 0.005248601950405937   0.829149333708596\n",
       " 0.010955730054515276  0.7307510851129585\n",
       "  0.01654649932908468   0.574636800383557\n",
       "  0.01761229533585484   1.093116277322885\n",
       " 0.023444153923241833  0.7407016130994658\n",
       " 0.027767414550486366  1.3156945314190804\n",
       " 0.031493534221127883  1.0082479983026937\n",
       " 0.032264304556881764  0.5488446377286036\n",
       " 0.034673749769606146   0.770273355827187\n",
       "                  ...                 ...\n",
       " -0.05406336289750058 0.08203196206119648\n",
       " -0.04876963240310395  0.3455610653490189\n",
       " -0.04835776204339633  0.3004142106843401\n",
       "-0.044697376776433866  0.2827644235002205\n",
       " -0.04381336014931439 0.07464808559919256\n",
       " -0.04350859099431402  0.2578089920019343\n",
       " -0.04163084393620205  0.6504684234751714\n",
       " -0.04112532465297885 0.10117368649593633\n",
       " -0.03671435032707307  0.6644493670973721\n",
       " -0.03500384083434786 0.16578308350345994"
      ]
     },
     "execution_count": 45,
     "metadata": {},
     "output_type": "execute_result"
    }
   ],
   "source": [
    "folded = ts_synth.fold(period=0.49822 * u.day)\n",
    "folded"
   ]
  },
  {
   "cell_type": "code",
   "execution_count": 47,
   "metadata": {},
   "outputs": [
    {
     "data": {
      "text/plain": [
       "array([0.        , 0.0052486 , 0.01095573, 0.0165465 , 0.0176123 ,\n",
       "       0.02344415, 0.02776741, 0.03149353, 0.0322643 , 0.03467375])"
      ]
     },
     "execution_count": 47,
     "metadata": {},
     "output_type": "execute_result"
    }
   ],
   "source": [
    "folded.time.value[:10]"
   ]
  },
  {
   "cell_type": "code",
   "execution_count": 49,
   "metadata": {},
   "outputs": [
    {
     "data": {
      "image/png": "[encoded data removed]",
      "text/plain": [
       "<Figure size 720x432 with 1 Axes>"
      ]
     },
     "metadata": {
      "needs_background": "light"
     },
     "output_type": "display_data"
    }
   ],
   "source": [
    "plt.plot(folded.time.value, ts_synth['flux'], '.');"
   ]
  },
  {
   "cell_type": "markdown",
   "metadata": {},
   "source": [
    "## Periodogram analysis\n",
    "\n",
    "In the above example it was clear what period to use since we generated the data, but how would we find the period in the first place if it wasn't known? The astropy.timeseries sub-package includes several algorithms for periodogram analysis, the most general one being the Lomb-Scargle algorithm ([Lomb 1976](http://adsabs.harvard.edu/abs/1976Ap%26SS..39..447L), [Scargle 1982](http://adsabs.harvard.edu/abs/1982ApJ...263..835S)). To use this, first create an instance of the [LombScargle](http://docs.astropy.org/en/stable/api/astropy.timeseries.LombScargle.html#astropy.timeseries.LombScargle) class:"
   ]
  },
  {
   "cell_type": "code",
   "execution_count": 50,
   "metadata": {},
   "outputs": [],
   "source": [
    "from astropy.timeseries import LombScargle"
   ]
  },
  {
   "cell_type": "code",
   "execution_count": 51,
   "metadata": {},
   "outputs": [],
   "source": [
    "ls = LombScargle.from_timeseries(ts_synth, 'flux')"
   ]
  },
  {
   "cell_type": "markdown",
   "metadata": {},
   "source": [
    "To run the periodogram analysis, the easiest way is to call the [autopower](http://docs.astropy.org/en/stable/api/astropy.timeseries.LombScargle.html#astropy.timeseries.LombScargle.autopower) method:"
   ]
  },
  {
   "cell_type": "code",
   "execution_count": 52,
   "metadata": {},
   "outputs": [],
   "source": [
    "frequency, power = ls.autopower()"
   ]
  },
  {
   "cell_type": "code",
   "execution_count": 53,
   "metadata": {},
   "outputs": [
    {
     "data": {
      "text/latex": [
       "$[0.028964215,~0.086892645,~0.14482108,~\\dots,~724.01849,~724.07641,~724.13434] \\; \\mathrm{\\frac{1}{d}}$"
      ],
      "text/plain": [
       "<Quantity [2.89642151e-02, 8.68926453e-02, 1.44821076e-01, ...,\n",
       "           7.24018485e+02, 7.24076414e+02, 7.24134342e+02] 1 / d>"
      ]
     },
     "execution_count": 53,
     "metadata": {},
     "output_type": "execute_result"
    }
   ],
   "source": [
    "frequency"
   ]
  },
  {
   "cell_type": "code",
   "execution_count": 54,
   "metadata": {},
   "outputs": [
    {
     "data": {
      "text/latex": [
       "$[0.0064953064,~0.0058338432,~0.0044698804,~\\dots,~0.00074942326,~0.0017767045,~0.003145695] \\; \\mathrm{}$"
      ],
      "text/plain": [
       "<Quantity [0.00649531, 0.00583384, 0.00446988, ..., 0.00074942, 0.0017767 ,\n",
       "           0.0031457 ]>"
      ]
     },
     "execution_count": 54,
     "metadata": {},
     "output_type": "execute_result"
    }
   ],
   "source": [
    "power"
   ]
  },
  {
   "cell_type": "code",
   "execution_count": 55,
   "metadata": {},
   "outputs": [
    {
     "data": {
      "image/png": "[encoded data removed]",
      "text/plain": [
       "<Figure size 720x432 with 1 Axes>"
      ]
     },
     "metadata": {
      "needs_background": "light"
     },
     "output_type": "display_data"
    }
   ],
   "source": [
    "plt.plot(frequency, power);"
   ]
  },
  {
   "cell_type": "markdown",
   "metadata": {},
   "source": [
    "We can zoom in on the low frequency peak by doing:"
   ]
  },
  {
   "cell_type": "code",
   "execution_count": 59,
   "metadata": {},
   "outputs": [
    {
     "data": {
      "image/png": "[encoded data removed]",
      "text/plain": [
       "<Figure size 720x432 with 1 Axes>"
      ]
     },
     "metadata": {
      "needs_background": "light"
     },
     "output_type": "display_data"
    }
   ],
   "source": [
    "frequency, power = ls.autopower(minimum_frequency=0.01/u.day, maximum_frequency=10/u.day)\n",
    "plt.plot(frequency, power);"
   ]
  },
  {
   "cell_type": "markdown",
   "metadata": {},
   "source": [
    "The peak is located at:"
   ]
  },
  {
   "cell_type": "code",
   "execution_count": 57,
   "metadata": {},
   "outputs": [
    {
     "data": {
      "text/latex": [
       "$1.9985308 \\; \\mathrm{\\frac{1}{d}}$"
      ],
      "text/plain": [
       "<Quantity 1.99853084 1 / d>"
      ]
     },
     "execution_count": 57,
     "metadata": {},
     "output_type": "execute_result"
    }
   ],
   "source": [
    "peak = np.argmax(power)\n",
    "frequency[peak]"
   ]
  },
  {
   "cell_type": "code",
   "execution_count": 60,
   "metadata": {},
   "outputs": [
    {
     "data": {
      "text/latex": [
       "$0.50516107 \\; \\mathrm{d}$"
      ],
      "text/plain": [
       "<Quantity 0.50516107 d>"
      ]
     },
     "execution_count": 60,
     "metadata": {},
     "output_type": "execute_result"
    }
   ],
   "source": [
    "1/ frequency[peak]"
   ]
  },
  {
   "cell_type": "markdown",
   "metadata": {},
   "source": [
    "## Reading in data\n",
    "\n",
    "Reading in time series can be done via the [TimeSeries.read](http://docs.astropy.org/en/stable/api/astropy.timeseries.TimeSeries.html#astropy.timeseries.TimeSeries.read) method. This accepts all the formats supported by the Table class, and requires that you specify the name of the time column, and optionally the format and scale for the time. We will take a look at this by reading a CSV file that looks like:\n",
    "\n",
    "    Date,A,B,C,D,E,F,G\n",
    "    2008-03-18,24.68,164.93,114.73,26.27,19.21,28.87,63.44\n",
    "    2008-03-19,24.18,164.89,114.75,26.22,19.07,27.76,59.98\n",
    "    ...\n",
    "    \n",
    "To read this file, you can do:"
   ]
  },
  {
   "cell_type": "code",
   "execution_count": 63,
   "metadata": {},
   "outputs": [
    {
     "data": {
      "text/html": [
       "<i>TimeSeries length=11</i>\n",
       "<table id=\"table4724212944\" class=\"table-striped table-bordered table-condensed\">\n",
       "<thead><tr><th>time</th><th>A</th><th>B</th><th>C</th><th>D</th><th>E</th><th>F</th><th>G</th></tr></thead>\n",
       "<thead><tr><th>object</th><th>float64</th><th>float64</th><th>float64</th><th>float64</th><th>float64</th><th>float64</th><th>float64</th></tr></thead>\n",
       "<tr><td>2008-03-18 00:00:00.000</td><td>24.68</td><td>164.93</td><td>114.73</td><td>26.27</td><td>19.21</td><td>28.87</td><td>63.44</td></tr>\n",
       "<tr><td>2008-03-19 00:00:00.000</td><td>24.18</td><td>164.89</td><td>114.75</td><td>26.22</td><td>19.07</td><td>27.76</td><td>59.98</td></tr>\n",
       "<tr><td>2008-03-20 00:00:00.000</td><td>23.99</td><td>164.63</td><td>115.04</td><td>25.78</td><td>19.01</td><td>27.04</td><td>59.61</td></tr>\n",
       "<tr><td>2008-03-25 00:00:00.000</td><td>24.14</td><td>163.92</td><td>114.85</td><td>27.41</td><td>19.61</td><td>27.84</td><td>59.41</td></tr>\n",
       "<tr><td>2008-03-26 00:00:00.000</td><td>24.44</td><td>163.45</td><td>114.84</td><td>26.86</td><td>19.53</td><td>28.02</td><td>60.09</td></tr>\n",
       "<tr><td>2008-03-27 00:00:00.000</td><td>24.38</td><td>163.46</td><td>115.4</td><td>27.09</td><td>19.72</td><td>28.25</td><td>59.62</td></tr>\n",
       "<tr><td>2008-03-28 00:00:00.000</td><td>24.32</td><td>163.22</td><td>115.56</td><td>27.13</td><td>19.63</td><td>28.24</td><td>58.65</td></tr>\n",
       "<tr><td>2008-03-31 00:00:00.000</td><td>24.19</td><td>164.02</td><td>115.54</td><td>26.74</td><td>19.55</td><td>28.43</td><td>59.2</td></tr>\n",
       "<tr><td>2008-04-01 00:00:00.000</td><td>23.81</td><td>163.59</td><td>115.72</td><td>27.82</td><td>20.21</td><td>29.17</td><td>56.18</td></tr>\n",
       "<tr><td>2008-04-02 00:00:00.000</td><td>24.03</td><td>163.32</td><td>115.11</td><td>28.22</td><td>20.42</td><td>29.38</td><td>56.64</td></tr>\n",
       "<tr><td>2008-04-03 00:00:00.000</td><td>24.34</td><td>163.34</td><td>115.17</td><td>28.14</td><td>20.36</td><td>29.51</td><td>57.49</td></tr>\n",
       "</table>"
      ],
      "text/plain": [
       "<TimeSeries length=11>\n",
       "          time             A       B       C       D       E       F       G   \n",
       "         object         float64 float64 float64 float64 float64 float64 float64\n",
       "----------------------- ------- ------- ------- ------- ------- ------- -------\n",
       "2008-03-18 00:00:00.000   24.68  164.93  114.73   26.27   19.21   28.87   63.44\n",
       "2008-03-19 00:00:00.000   24.18  164.89  114.75   26.22   19.07   27.76   59.98\n",
       "2008-03-20 00:00:00.000   23.99  164.63  115.04   25.78   19.01   27.04   59.61\n",
       "2008-03-25 00:00:00.000   24.14  163.92  114.85   27.41   19.61   27.84   59.41\n",
       "2008-03-26 00:00:00.000   24.44  163.45  114.84   26.86   19.53   28.02   60.09\n",
       "2008-03-27 00:00:00.000   24.38  163.46   115.4   27.09   19.72   28.25   59.62\n",
       "2008-03-28 00:00:00.000   24.32  163.22  115.56   27.13   19.63   28.24   58.65\n",
       "2008-03-31 00:00:00.000   24.19  164.02  115.54   26.74   19.55   28.43    59.2\n",
       "2008-04-01 00:00:00.000   23.81  163.59  115.72   27.82   20.21   29.17   56.18\n",
       "2008-04-02 00:00:00.000   24.03  163.32  115.11   28.22   20.42   29.38   56.64\n",
       "2008-04-03 00:00:00.000   24.34  163.34  115.17   28.14   20.36   29.51   57.49"
      ]
     },
     "execution_count": 63,
     "metadata": {},
     "output_type": "execute_result"
    }
   ],
   "source": [
    "TimeSeries.read('data/sampled.csv', time_column='Date')"
   ]
  },
  {
   "cell_type": "markdown",
   "metadata": {},
   "source": [
    "For some well defined formats (e.g. Kepler/TESS time series files), it is enough to specify the filename."
   ]
  },
  {
   "cell_type": "markdown",
   "metadata": {},
   "source": [
    "<center><i>This notebook was originally written by <a href=\"https://aperiosoftware.com/\">Aperio Software Ltd</a> and modified by Brigitta Sipőcz. &copy; 2019-2021 and is licensed under a <a href=\"https://creativecommons.org/licenses/by/4.0/\">Creative Commons Attribution 4.0 International License (CC BY 4.0)</a></i></center>\n",
    "\n",
    "![cc](https://mirrors.creativecommons.org/presskit/buttons/88x31/svg/by.svg)"
   ]
  },
  {
   "cell_type": "code",
   "execution_count": null,
   "metadata": {},
   "outputs": [],
   "source": []
  }
 ],
 "metadata": {
  "kernelspec": {
   "display_name": "Python 3",
   "language": "python",
   "name": "python3"
  },
  "language_info": {
   "codemirror_mode": {
    "name": "ipython",
    "version": 3
   },
   "file_extension": ".py",
   "mimetype": "text/x-python",
   "name": "python",
   "nbconvert_exporter": "python",
   "pygments_lexer": "ipython3",
   "version": "3.7.7"
  },
  "toc": {
   "base_numbering": 1,
   "nav_menu": {},
   "number_sections": true,
   "sideBar": true,
   "skip_h1_title": false,
   "title_cell": "Table of Contents",
   "title_sidebar": "Contents",
   "toc_cell": false,
   "toc_position": {},
   "toc_section_display": true,
   "toc_window_display": false
  }
 },
 "nbformat": 4,
 "nbformat_minor": 4
}
