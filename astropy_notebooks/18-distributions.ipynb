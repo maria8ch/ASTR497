{
 "cells": [
  {
   "cell_type": "markdown",
   "metadata": {},
   "source": [
    "# Uncertainties and Distributions\n",
    "\n",
    "The [astropy.uncertainty](http://docs.astropy.org/en/stable/uncertainty/index.html) sub-package is a relatively new sub-package which provides a framework for doing uncertainty propagation in calculations. For now, this is focused on the more accurate but slower method of tracking uncertainties by Monte-Carlo sampling. Since it is a relatively new sub-package, it is possible that it will evolve a little over time."
   ]
  },
  {
   "cell_type": "markdown",
   "metadata": {},
   "source": [
    "\n",
    "<section class=\"objectives panel panel-warning\">\n",
    "<div class=\"panel-heading\">\n",
    "<h2><span class=\"fa fa-certificate\"></span> Objectives</h2>\n",
    "</div>\n",
    "\n",
    "\n",
    "<div class=\"panel-body\">\n",
    "\n",
    "<ul>\n",
    "<li>Create distributions</li>\n",
    "<li>Plot distributions</li>\n",
    "<li>Extract useful statistics</li>\n",
    "<li>Combine distributions</li>\n",
    "</ul>\n",
    "\n",
    "</div>\n",
    "\n",
    "</section>\n"
   ]
  },
  {
   "cell_type": "markdown",
   "metadata": {},
   "source": [
    "## Documentation\n",
    "\n",
    "This notebook only shows a subset of the functionality in astropy.uncertainty. For more information about the features presented below as well as other available features, you can read the\n",
    "[astropy.uncertainty documentation](https://docs.astropy.org/en/stable/uncertainty/)."
   ]
  },
  {
   "cell_type": "code",
   "execution_count": 1,
   "metadata": {},
   "outputs": [],
   "source": [
    "%matplotlib inline\n",
    "import matplotlib.pyplot as plt\n",
    "plt.rc('image', origin='lower')\n",
    "plt.rc('figure', figsize=(10, 6))"
   ]
  },
  {
   "cell_type": "markdown",
   "metadata": {},
   "source": [
    "## Creating distributions\n",
    "\n",
    "The central object in astropy.uncertainty is the [Distribution](http://docs.astropy.org/en/stable/api/astropy.uncertainty.Distribution.html#astropy.uncertainty.Distribution) class, which can be thought of as a quantity with an underlying distribution of values. Several helper functions are provided to create standard distributions:"
   ]
  },
  {
   "cell_type": "code",
   "execution_count": 3,
   "metadata": {},
   "outputs": [],
   "source": [
    "from astropy import units as u\n",
    "from astropy import uncertainty as unc"
   ]
  },
  {
   "cell_type": "code",
   "execution_count": 4,
   "metadata": {},
   "outputs": [
    {
     "data": {
      "text/latex": [
       "$[3.7261853,~4.1600268,~4.1921108,~\\dots,~4.0802736,~4.1464312,~4.221328] \\; \\mathrm{kpc}, \\; n_{\\rm samp}=10000$"
      ],
      "text/plain": [
       "<QuantityDistribution [3.72618525, 4.16002681, 4.19211078, ..., 4.08027358, 4.14643122,\n",
       "           4.22132802] kpc with n_samples=10000>"
      ]
     },
     "execution_count": 4,
     "metadata": {},
     "output_type": "execute_result"
    }
   ],
   "source": [
    "distance = unc.normal(4 * u.kpc, std=0.5 * u.kpc, n_samples=10000)\n",
    "distance"
   ]
  },
  {
   "cell_type": "code",
   "execution_count": 9,
   "metadata": {},
   "outputs": [
    {
     "data": {
      "text/latex": [
       "$[5.6277697,~4.2266583,~4.0279648,~\\dots,~4.1166715,~4.8338638,~4.4070854] \\; \\mathrm{\\frac{km}{s}}, \\; n_{\\rm samp}=10000$"
      ],
      "text/plain": [
       "<QuantityDistribution [5.62776974, 4.22665834, 4.02796484, ..., 4.11667151, 4.83386377,\n",
       "           4.40708545] km / s with n_samples=10000>"
      ]
     },
     "execution_count": 9,
     "metadata": {},
     "output_type": "execute_result"
    }
   ],
   "source": [
    "velocity = unc.uniform(center=5 * u.km/u.s, width=2 * u.km/u.s, n_samples=10000)\n",
    "velocity"
   ]
  },
  {
   "cell_type": "markdown",
   "metadata": {},
   "source": [
    "You can also create arbitrary distributions - see the [documentation](http://docs.astropy.org/en/stable/uncertainty/index.html#creating-distributions) for more details."
   ]
  },
  {
   "cell_type": "markdown",
   "metadata": {},
   "source": [
    "The easiest way to visualize these distributions is to use the ``.distribution`` attribute of the ``Distribution`` objects, which returns the individual Monte-Carlo samples:"
   ]
  },
  {
   "cell_type": "code",
   "execution_count": 11,
   "metadata": {},
   "outputs": [
    {
     "data": {
      "text/plain": [
       "<astropy.visualization.units.quantity_support.<locals>.MplQuantityConverter at 0x121773450>"
      ]
     },
     "execution_count": 11,
     "metadata": {},
     "output_type": "execute_result"
    }
   ],
   "source": [
    "from astropy.visualization import quantity_support, hist\n",
    "quantity_support()"
   ]
  },
  {
   "cell_type": "code",
   "execution_count": 13,
   "metadata": {},
   "outputs": [
    {
     "data": {
      "image/png": "[encoded data removed]",
      "text/plain": [
       "<Figure size 720x432 with 1 Axes>"
      ]
     },
     "metadata": {
      "needs_background": "light"
     },
     "output_type": "display_data"
    }
   ],
   "source": [
    "hist(distance.distribution, bins='knuth');"
   ]
  },
  {
   "cell_type": "markdown",
   "metadata": {},
   "source": [
    "## Using distributions\n",
    "\n",
    "Now that we have created a couple of distributions, we can use properties on these distributions to compute useful values:"
   ]
  },
  {
   "cell_type": "code",
   "execution_count": 15,
   "metadata": {},
   "outputs": [
    {
     "data": {
      "text/latex": [
       "$\\mathrm{kpc}$"
      ],
      "text/plain": [
       "Unit(\"kpc\")"
      ]
     },
     "execution_count": 15,
     "metadata": {},
     "output_type": "execute_result"
    }
   ],
   "source": [
    "distance.unit"
   ]
  },
  {
   "cell_type": "code",
   "execution_count": 16,
   "metadata": {},
   "outputs": [
    {
     "data": {
      "text/plain": [
       "10000"
      ]
     },
     "execution_count": 16,
     "metadata": {},
     "output_type": "execute_result"
    }
   ],
   "source": [
    "distance.n_samples"
   ]
  },
  {
   "cell_type": "code",
   "execution_count": 18,
   "metadata": {},
   "outputs": [
    {
     "data": {
      "text/latex": [
       "$3.9913973 \\; \\mathrm{kpc}$"
      ],
      "text/plain": [
       "<Quantity 3.99139735 kpc>"
      ]
     },
     "execution_count": 18,
     "metadata": {},
     "output_type": "execute_result"
    }
   ],
   "source": [
    "distance.pdf_mean()"
   ]
  },
  {
   "cell_type": "code",
   "execution_count": 19,
   "metadata": {},
   "outputs": [
    {
     "data": {
      "text/latex": [
       "$0.5018204 \\; \\mathrm{kpc}$"
      ],
      "text/plain": [
       "<Quantity 0.5018204 kpc>"
      ]
     },
     "execution_count": 19,
     "metadata": {},
     "output_type": "execute_result"
    }
   ],
   "source": [
    "distance.pdf_std()"
   ]
  },
  {
   "cell_type": "code",
   "execution_count": 20,
   "metadata": {},
   "outputs": [
    {
     "data": {
      "text/latex": [
       "$0.50216883 \\; \\mathrm{kpc}$"
      ],
      "text/plain": [
       "<Quantity 0.50216883 kpc>"
      ]
     },
     "execution_count": 20,
     "metadata": {},
     "output_type": "execute_result"
    }
   ],
   "source": [
    "distance.pdf_smad()"
   ]
  },
  {
   "cell_type": "code",
   "execution_count": null,
   "metadata": {},
   "outputs": [],
   "source": []
  },
  {
   "cell_type": "markdown",
   "metadata": {},
   "source": [
    "Distributions can be combined with quantities seamlessly:"
   ]
  },
  {
   "cell_type": "code",
   "execution_count": 21,
   "metadata": {},
   "outputs": [
    {
     "data": {
      "text/latex": [
       "$[1.8630926,~2.0800134,~2.0960554,~\\dots,~2.0401368,~2.0732156,~2.110664] \\; \\mathrm{\\frac{kpc}{Myr}}, \\; n_{\\rm samp}=10000$"
      ],
      "text/plain": [
       "<QuantityDistribution [1.86309263, 2.0800134 , 2.09605539, ..., 2.04013679, 2.07321561,\n",
       "           2.11066401] kpc / Myr with n_samples=10000>"
      ]
     },
     "execution_count": 21,
     "metadata": {},
     "output_type": "execute_result"
    }
   ],
   "source": [
    "velocity_fixed_time = distance / (2 *u.Myr)\n",
    "velocity_fixed_time"
   ]
  },
  {
   "cell_type": "code",
   "execution_count": 22,
   "metadata": {},
   "outputs": [
    {
     "data": {
      "image/png": "[encoded data removed]",
      "text/plain": [
       "<Figure size 720x432 with 1 Axes>"
      ]
     },
     "metadata": {
      "needs_background": "light"
     },
     "output_type": "display_data"
    }
   ],
   "source": [
    "hist(velocity_fixed_time.distribution, bins = 'knuth');"
   ]
  },
  {
   "cell_type": "markdown",
   "metadata": {},
   "source": [
    "and distributions can also be combined with other distributions:"
   ]
  },
  {
   "cell_type": "code",
   "execution_count": 24,
   "metadata": {},
   "outputs": [
    {
     "data": {
      "text/latex": [
       "$[0.66210691,~0.98423541,~1.0407516,~\\dots,~0.99115841,~0.85778818,~0.95785028] \\; \\mathrm{\\frac{kpc\\,s}{km}}, \\; n_{\\rm samp}=10000$"
      ],
      "text/plain": [
       "<QuantityDistribution [0.66210691, 0.98423541, 1.04075158, ..., 0.99115841, 0.85778818,\n",
       "           0.95785028] kpc s / km with n_samples=10000>"
      ]
     },
     "execution_count": 24,
     "metadata": {},
     "output_type": "execute_result"
    }
   ],
   "source": [
    "time = distance / velocity\n",
    "time"
   ]
  },
  {
   "cell_type": "code",
   "execution_count": 25,
   "metadata": {},
   "outputs": [
    {
     "data": {
      "image/png": "[encoded data removed]",
      "text/plain": [
       "<Figure size 720x432 with 1 Axes>"
      ]
     },
     "metadata": {
      "needs_background": "light"
     },
     "output_type": "display_data"
    }
   ],
   "source": [
    "hist(time.distribution, bins= 'knuth');"
   ]
  },
  {
   "cell_type": "markdown",
   "metadata": {},
   "source": [
    "Provided that the distributions have samples that match one-to-one, correlations are properly taken into account - that is, if one does:"
   ]
  },
  {
   "cell_type": "code",
   "execution_count": 26,
   "metadata": {},
   "outputs": [],
   "source": [
    "import numpy as np\n",
    "time = distance * np.sqrt(velocity) / velocity ** 1.5"
   ]
  },
  {
   "cell_type": "code",
   "execution_count": 28,
   "metadata": {},
   "outputs": [
    {
     "data": {
      "image/png": "[encoded data removed]",
      "text/plain": [
       "<Figure size 720x432 with 1 Axes>"
      ]
     },
     "metadata": {
      "needs_background": "light"
     },
     "output_type": "display_data"
    }
   ],
   "source": [
    "hist(time.distribution, bins = 'knuth');"
   ]
  },
  {
   "cell_type": "markdown",
   "metadata": {},
   "source": [
    "Note that this is only the case if the samples match one to one (see [this section](http://docs.astropy.org/en/stable/uncertainty/index.html#covariance-in-distributions-and-discrete-sampling-effects) in the documentation for more details about this)."
   ]
  },
  {
   "cell_type": "code",
   "execution_count": null,
   "metadata": {},
   "outputs": [],
   "source": []
  },
  {
   "cell_type": "markdown",
   "metadata": {},
   "source": [
    "<center><i>This notebook was originally written by <a href=\"https://aperiosoftware.com/\">Aperio Software Ltd</a> and modified by Brigitta Sipőcz. &copy; 2019-2021 and is licensed under a <a href=\"https://creativecommons.org/licenses/by/4.0/\">Creative Commons Attribution 4.0 International License (CC BY 4.0)</a></i></center>\n",
    "\n",
    "![cc](https://mirrors.creativecommons.org/presskit/buttons/88x31/svg/by.svg)"
   ]
  },
  {
   "cell_type": "code",
   "execution_count": null,
   "metadata": {},
   "outputs": [],
   "source": []
  }
 ],
 "metadata": {
  "kernelspec": {
   "display_name": "Python 3",
   "language": "python",
   "name": "python3"
  },
  "language_info": {
   "codemirror_mode": {
    "name": "ipython",
    "version": 3
   },
   "file_extension": ".py",
   "mimetype": "text/x-python",
   "name": "python",
   "nbconvert_exporter": "python",
   "pygments_lexer": "ipython3",
   "version": "3.7.7"
  },
  "toc": {
   "base_numbering": 1,
   "nav_menu": {},
   "number_sections": true,
   "sideBar": true,
   "skip_h1_title": false,
   "title_cell": "Table of Contents",
   "title_sidebar": "Contents",
   "toc_cell": false,
   "toc_position": {},
   "toc_section_display": true,
   "toc_window_display": false
  }
 },
 "nbformat": 4,
 "nbformat_minor": 4
}
