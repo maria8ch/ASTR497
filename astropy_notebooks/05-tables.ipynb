{
 "cells": [
  {
   "cell_type": "markdown",
   "metadata": {},
   "source": [
    "# A common interface for handling tabular data\n",
    "\n",
    "As we've seen in the FITS tutorial, the [astropy.io.fits](http://docs.astropy.org/en/stable/io/fits/index.html) sub-package can be used to access FITS tables. In addition, as we will see in the next tutorial, there is functionality in [astropy.io.votable](http://docs.astropy.org/en/stable/io/votable/index.html) and [astropy.io.ascii](http://docs.astropy.org/en/stable/io/ascii/index.html) to read in VO and ASCII tables. However, while these sub-pacakges have user interfaces that are specific to each kind of file, it can be difficult to remember all of them. Therefore, astropy includes a higher level interface in [astropy.table](http://docs.astropy.org/en/stable/table/index.html) which can be used to access tables in many different formats in a similar way."
   ]
  },
  {
   "cell_type": "markdown",
   "metadata": {},
   "source": [
    "\n",
    "<section class=\"objectives panel panel-warning\">\n",
    "<div class=\"panel-heading\">\n",
    "<h2><span class=\"fa fa-certificate\"></span> Objectives</h2>\n",
    "</div>\n",
    "\n",
    "\n",
    "<div class=\"panel-body\">\n",
    "\n",
    "<ul>\n",
    "<li>Create tables</li>\n",
    "<li>Access data in tables</li>\n",
    "<li>Combining tables</li>\n",
    "<li>Using high-level objects as columns</li>\n",
    "<li>Aggregation</li>\n",
    "<li>Masking</li>\n",
    "<li>Reading/writing</li>\n",
    "</ul>\n",
    "\n",
    "</div>\n",
    "\n",
    "</section>\n"
   ]
  },
  {
   "cell_type": "markdown",
   "metadata": {},
   "source": [
    "## Documentation\n",
    "\n",
    "This notebook only shows a subset of the functionality in astropy.table. For more information about the features presented below as well as other available features, you can read the\n",
    "[astropy.table documentation](https://docs.astropy.org/en/stable/table/)."
   ]
  },
  {
   "cell_type": "code",
   "execution_count": 1,
   "metadata": {},
   "outputs": [],
   "source": [
    "%matplotlib inline\n",
    "import matplotlib.pyplot as plt\n",
    "plt.rc('image', origin='lower')\n",
    "plt.rc('figure', figsize=(10, 6))"
   ]
  },
  {
   "cell_type": "markdown",
   "metadata": {},
   "source": [
    "## Creating tables\n",
    "\n",
    "The main class we will use here is called ``Table``:"
   ]
  },
  {
   "cell_type": "code",
   "execution_count": 2,
   "metadata": {},
   "outputs": [],
   "source": [
    "from astropy.table import Table"
   ]
  },
  {
   "cell_type": "markdown",
   "metadata": {},
   "source": [
    "Before we look at how to read and write tables, let's first see how to create a table from scratch:"
   ]
  },
  {
   "cell_type": "code",
   "execution_count": 3,
   "metadata": {},
   "outputs": [],
   "source": [
    "t1 = Table()\n",
    "t1['name'] = ['source1', 'source2', 'source3']\n",
    "t1['flux'] = [1.1, 1.2, 1.3]"
   ]
  },
  {
   "cell_type": "markdown",
   "metadata": {},
   "source": [
    "We can look at the table with:"
   ]
  },
  {
   "cell_type": "code",
   "execution_count": 4,
   "metadata": {},
   "outputs": [
    {
     "data": {
      "text/html": [
       "<i>Table length=3</i>\n",
       "<table id=\"table4834482960\" class=\"table-striped table-bordered table-condensed\">\n",
       "<thead><tr><th>name</th><th>flux</th></tr></thead>\n",
       "<thead><tr><th>str7</th><th>float64</th></tr></thead>\n",
       "<tr><td>source1</td><td>1.1</td></tr>\n",
       "<tr><td>source2</td><td>1.2</td></tr>\n",
       "<tr><td>source3</td><td>1.3</td></tr>\n",
       "</table>"
      ],
      "text/plain": [
       "<Table length=3>\n",
       "  name    flux \n",
       "  str7  float64\n",
       "------- -------\n",
       "source1     1.1\n",
       "source2     1.2\n",
       "source3     1.3"
      ]
     },
     "execution_count": 4,
     "metadata": {},
     "output_type": "execute_result"
    }
   ],
   "source": [
    "t1"
   ]
  },
  {
   "cell_type": "markdown",
   "metadata": {},
   "source": [
    "We can add columns:"
   ]
  },
  {
   "cell_type": "code",
   "execution_count": 6,
   "metadata": {},
   "outputs": [
    {
     "data": {
      "text/html": [
       "<i>Table length=3</i>\n",
       "<table id=\"table4834482960\" class=\"table-striped table-bordered table-condensed\">\n",
       "<thead><tr><th>name</th><th>flux</th><th>size</th></tr></thead>\n",
       "<thead><tr><th>str7</th><th>float64</th><th>int64</th></tr></thead>\n",
       "<tr><td>source1</td><td>1.1</td><td>1</td></tr>\n",
       "<tr><td>source2</td><td>1.2</td><td>5</td></tr>\n",
       "<tr><td>source3</td><td>1.3</td><td>4</td></tr>\n",
       "</table>"
      ],
      "text/plain": [
       "<Table length=3>\n",
       "  name    flux   size\n",
       "  str7  float64 int64\n",
       "------- ------- -----\n",
       "source1     1.1     1\n",
       "source2     1.2     5\n",
       "source3     1.3     4"
      ]
     },
     "execution_count": 6,
     "metadata": {},
     "output_type": "execute_result"
    }
   ],
   "source": [
    "t1['size'] = [1, 5, 4]\n",
    "t1"
   ]
  },
  {
   "cell_type": "markdown",
   "metadata": {},
   "source": [
    "Access the values in a column:"
   ]
  },
  {
   "cell_type": "code",
   "execution_count": 7,
   "metadata": {},
   "outputs": [
    {
     "data": {
      "text/html": [
       "&lt;Column name=&apos;size&apos; dtype=&apos;int64&apos; length=3&gt;\n",
       "<table>\n",
       "<tr><td>1</td></tr>\n",
       "<tr><td>5</td></tr>\n",
       "<tr><td>4</td></tr>\n",
       "</table>"
      ],
      "text/plain": [
       "<Column name='size' dtype='int64' length=3>\n",
       "1\n",
       "5\n",
       "4"
      ]
     },
     "execution_count": 7,
     "metadata": {},
     "output_type": "execute_result"
    }
   ],
   "source": [
    "t1['size']"
   ]
  },
  {
   "cell_type": "code",
   "execution_count": 8,
   "metadata": {},
   "outputs": [
    {
     "data": {
      "text/plain": [
       "1.2"
      ]
     },
     "execution_count": 8,
     "metadata": {},
     "output_type": "execute_result"
    }
   ],
   "source": [
    "t1['flux'][1]"
   ]
  },
  {
   "cell_type": "markdown",
   "metadata": {},
   "source": [
    "Convert the column to a Numpy array:"
   ]
  },
  {
   "cell_type": "code",
   "execution_count": 9,
   "metadata": {},
   "outputs": [
    {
     "data": {
      "text/plain": [
       "array([1, 5, 4])"
      ]
     },
     "execution_count": 9,
     "metadata": {},
     "output_type": "execute_result"
    }
   ],
   "source": [
    "import numpy as np\n",
    "np.array(t1['size'])"
   ]
  },
  {
   "cell_type": "markdown",
   "metadata": {},
   "source": [
    "Access individual cells:"
   ]
  },
  {
   "cell_type": "code",
   "execution_count": 10,
   "metadata": {},
   "outputs": [
    {
     "data": {
      "text/plain": [
       "1"
      ]
     },
     "execution_count": 10,
     "metadata": {},
     "output_type": "execute_result"
    }
   ],
   "source": [
    "t1['size'][0]"
   ]
  },
  {
   "cell_type": "markdown",
   "metadata": {},
   "source": [
    "And access rows:"
   ]
  },
  {
   "cell_type": "code",
   "execution_count": 11,
   "metadata": {},
   "outputs": [
    {
     "data": {
      "text/html": [
       "<i>Row index=0</i>\n",
       "<table id=\"table4834482960\">\n",
       "<thead><tr><th>name</th><th>flux</th><th>size</th></tr></thead>\n",
       "<thead><tr><th>str7</th><th>float64</th><th>int64</th></tr></thead>\n",
       "<tr><td>source1</td><td>1.1</td><td>1</td></tr>\n",
       "</table>"
      ],
      "text/plain": [
       "<Row index=0>\n",
       "  name    flux   size\n",
       "  str7  float64 int64\n",
       "------- ------- -----\n",
       "source1     1.1     1"
      ]
     },
     "execution_count": 11,
     "metadata": {},
     "output_type": "execute_result"
    }
   ],
   "source": [
    "t1[0]"
   ]
  },
  {
   "cell_type": "markdown",
   "metadata": {},
   "source": [
    "fun quantity things:"
   ]
  },
  {
   "cell_type": "code",
   "execution_count": 13,
   "metadata": {},
   "outputs": [
    {
     "data": {
      "text/plain": [
       "array([False,  True,  True])"
      ]
     },
     "execution_count": 13,
     "metadata": {},
     "output_type": "execute_result"
    }
   ],
   "source": [
    "t1['size']>1"
   ]
  },
  {
   "cell_type": "markdown",
   "metadata": {},
   "source": [
    "## Units in tables\n",
    "\n",
    "Table columns can include units:"
   ]
  },
  {
   "cell_type": "code",
   "execution_count": 14,
   "metadata": {},
   "outputs": [
    {
     "data": {
      "text/html": [
       "<i>Table length=3</i>\n",
       "<table id=\"table4834482960\" class=\"table-striped table-bordered table-condensed\">\n",
       "<thead><tr><th>name</th><th>flux</th><th>size</th></tr></thead>\n",
       "<thead><tr><th></th><th>mJy</th><th>cm</th></tr></thead>\n",
       "<thead><tr><th>str7</th><th>float64</th><th>int64</th></tr></thead>\n",
       "<tr><td>source1</td><td>1.1</td><td>1</td></tr>\n",
       "<tr><td>source2</td><td>1.2</td><td>5</td></tr>\n",
       "<tr><td>source3</td><td>1.3</td><td>4</td></tr>\n",
       "</table>"
      ],
      "text/plain": [
       "<Table length=3>\n",
       "  name    flux   size\n",
       "          mJy     cm \n",
       "  str7  float64 int64\n",
       "------- ------- -----\n",
       "source1     1.1     1\n",
       "source2     1.2     5\n",
       "source3     1.3     4"
      ]
     },
     "execution_count": 14,
     "metadata": {},
     "output_type": "execute_result"
    }
   ],
   "source": [
    "from astropy import units as u\n",
    "t1['size'].unit = u.cm\n",
    "t1['flux'].unit = 'mJy'\n",
    "t1"
   ]
  },
  {
   "cell_type": "markdown",
   "metadata": {},
   "source": [
    "Some unitful operations will then work:"
   ]
  },
  {
   "cell_type": "code",
   "execution_count": 19,
   "metadata": {},
   "outputs": [
    {
     "data": {
      "text/latex": [
       "$[0.01,~0.05,~0.04] \\; \\mathrm{m}$"
      ],
      "text/plain": [
       "<Quantity [0.01, 0.05, 0.04] m>"
      ]
     },
     "execution_count": 19,
     "metadata": {},
     "output_type": "execute_result"
    }
   ],
   "source": [
    "t1['size'].to('m')"
   ]
  },
  {
   "cell_type": "code",
   "execution_count": 20,
   "metadata": {},
   "outputs": [
    {
     "data": {
      "text/plain": [
       "astropy.units.quantity.Quantity"
      ]
     },
     "execution_count": 20,
     "metadata": {},
     "output_type": "execute_result"
    }
   ],
   "source": [
    "type(t1['size'].to('m'))"
   ]
  },
  {
   "cell_type": "code",
   "execution_count": 21,
   "metadata": {},
   "outputs": [
    {
     "data": {
      "text/plain": [
       "astropy.table.column.Column"
      ]
     },
     "execution_count": 21,
     "metadata": {},
     "output_type": "execute_result"
    }
   ],
   "source": [
    "type(t1['size'])"
   ]
  },
  {
   "cell_type": "markdown",
   "metadata": {},
   "source": [
    "However, you may run into unexpected behavior, so if you are planning on using table columns as Quantities, we recommend that you use the ``QTable`` class:"
   ]
  },
  {
   "cell_type": "code",
   "execution_count": 22,
   "metadata": {},
   "outputs": [
    {
     "data": {
      "text/html": [
       "<i>Table length=3</i>\n",
       "<table id=\"table4834482960\" class=\"table-striped table-bordered table-condensed\">\n",
       "<thead><tr><th>name</th><th>flux</th><th>size</th></tr></thead>\n",
       "<thead><tr><th></th><th>mJy</th><th>cm</th></tr></thead>\n",
       "<thead><tr><th>str7</th><th>float64</th><th>int64</th></tr></thead>\n",
       "<tr><td>source1</td><td>1.1</td><td>1</td></tr>\n",
       "<tr><td>source2</td><td>1.2</td><td>5</td></tr>\n",
       "<tr><td>source3</td><td>1.3</td><td>4</td></tr>\n",
       "</table>"
      ],
      "text/plain": [
       "<Table length=3>\n",
       "  name    flux   size\n",
       "          mJy     cm \n",
       "  str7  float64 int64\n",
       "------- ------- -----\n",
       "source1     1.1     1\n",
       "source2     1.2     5\n",
       "source3     1.3     4"
      ]
     },
     "execution_count": 22,
     "metadata": {},
     "output_type": "execute_result"
    }
   ],
   "source": [
    "t1"
   ]
  },
  {
   "cell_type": "code",
   "execution_count": 23,
   "metadata": {},
   "outputs": [],
   "source": [
    "from astropy.table import QTable\n",
    "qt1 = QTable(t1)"
   ]
  },
  {
   "cell_type": "code",
   "execution_count": 24,
   "metadata": {},
   "outputs": [
    {
     "data": {
      "text/html": [
       "<i>QTable length=3</i>\n",
       "<table id=\"table4834591376\" class=\"table-striped table-bordered table-condensed\">\n",
       "<thead><tr><th>name</th><th>flux</th><th>size</th></tr></thead>\n",
       "<thead><tr><th></th><th>mJy</th><th>cm</th></tr></thead>\n",
       "<thead><tr><th>str7</th><th>float64</th><th>float64</th></tr></thead>\n",
       "<tr><td>source1</td><td>1.1</td><td>1.0</td></tr>\n",
       "<tr><td>source2</td><td>1.2</td><td>5.0</td></tr>\n",
       "<tr><td>source3</td><td>1.3</td><td>4.0</td></tr>\n",
       "</table>"
      ],
      "text/plain": [
       "<QTable length=3>\n",
       "  name    flux    size \n",
       "          mJy      cm  \n",
       "  str7  float64 float64\n",
       "------- ------- -------\n",
       "source1     1.1     1.0\n",
       "source2     1.2     5.0\n",
       "source3     1.3     4.0"
      ]
     },
     "execution_count": 24,
     "metadata": {},
     "output_type": "execute_result"
    }
   ],
   "source": [
    "qt1"
   ]
  },
  {
   "cell_type": "code",
   "execution_count": 25,
   "metadata": {},
   "outputs": [
    {
     "data": {
      "text/plain": [
       "astropy.units.quantity.Quantity"
      ]
     },
     "execution_count": 25,
     "metadata": {},
     "output_type": "execute_result"
    }
   ],
   "source": [
    "type(qt1['size'])"
   ]
  },
  {
   "cell_type": "markdown",
   "metadata": {},
   "source": [
    "\n",
    "<section class=\"challenge panel panel-success\">\n",
    "<div class=\"panel-heading\">\n",
    "<h2><span class=\"fa fa-pencil\"></span> Challenge</h2>\n",
    "</div>\n",
    "\n",
    "\n",
    "<div class=\"panel-body\">\n",
    "\n",
    "<ol>\n",
    "<li>Make a table that contains three columns: <code>spectral type</code>, <code>temperature</code>, and <code>radius</code>, and incude 5 rows with fake data (or real data if you like, for example from <a href=\"http://www.atlasoftheuniverse.com/startype.html\">here</a>). Try including units on the columns that can have them.</li>\n",
    "<li>Find the mean temperature and the maximum radius</li>\n",
    "<li>Try and find out how to add and remove rows</li>\n",
    "<li>Add a new column which gives the luminosity (using $L=4\\pi R^2 \\sigma T^4$)</li>\n",
    "</ol>\n",
    "\n",
    "</div>\n",
    "\n",
    "</section>\n"
   ]
  },
  {
   "cell_type": "code",
   "execution_count": null,
   "metadata": {},
   "outputs": [],
   "source": []
  },
  {
   "cell_type": "code",
   "execution_count": null,
   "metadata": {},
   "outputs": [],
   "source": []
  },
  {
   "cell_type": "code",
   "execution_count": null,
   "metadata": {},
   "outputs": [],
   "source": []
  },
  {
   "cell_type": "code",
   "execution_count": null,
   "metadata": {},
   "outputs": [],
   "source": []
  },
  {
   "cell_type": "code",
   "execution_count": null,
   "metadata": {},
   "outputs": [],
   "source": []
  },
  {
   "cell_type": "markdown",
   "metadata": {},
   "source": [
    "## Iterating over tables"
   ]
  },
  {
   "cell_type": "markdown",
   "metadata": {},
   "source": [
    "It is possible to iterate over rows or over columns. To iterate over rows, iterate over the table itself:"
   ]
  },
  {
   "cell_type": "code",
   "execution_count": 26,
   "metadata": {},
   "outputs": [
    {
     "name": "stdout",
     "output_type": "stream",
     "text": [
      "  name  flux size\n",
      "        mJy   cm \n",
      "------- ---- ----\n",
      "source1  1.1    1\n",
      "  name  flux size\n",
      "        mJy   cm \n",
      "------- ---- ----\n",
      "source2  1.2    5\n",
      "  name  flux size\n",
      "        mJy   cm \n",
      "------- ---- ----\n",
      "source3  1.3    4\n"
     ]
    }
   ],
   "source": [
    "for row in t1:\n",
    "    print(row)"
   ]
  },
  {
   "cell_type": "markdown",
   "metadata": {},
   "source": [
    "Rows can act like dictionaries, so you can access specific columns from a row:"
   ]
  },
  {
   "cell_type": "code",
   "execution_count": 28,
   "metadata": {},
   "outputs": [
    {
     "name": "stdout",
     "output_type": "stream",
     "text": [
      "source1\n",
      "source2\n",
      "source3\n"
     ]
    }
   ],
   "source": [
    "for row in t1:\n",
    "    print(row['name'])"
   ]
  },
  {
   "cell_type": "markdown",
   "metadata": {},
   "source": [
    "Iterating over columns is also easy:"
   ]
  },
  {
   "cell_type": "code",
   "execution_count": 31,
   "metadata": {},
   "outputs": [
    {
     "name": "stdout",
     "output_type": "stream",
     "text": [
      "  name \n",
      "-------\n",
      "source1\n",
      "source2\n",
      "source3\n",
      "flux\n",
      "mJy \n",
      "----\n",
      " 1.1\n",
      " 1.2\n",
      " 1.3\n",
      "size\n",
      " cm \n",
      "----\n",
      "   1\n",
      "   5\n",
      "   4\n"
     ]
    }
   ],
   "source": [
    "for colname in t1.columns:\n",
    "    column = t1[colname]\n",
    "    print(column)"
   ]
  },
  {
   "cell_type": "markdown",
   "metadata": {},
   "source": [
    "Accessing specific rows from a column object can be done with the item notation:"
   ]
  },
  {
   "cell_type": "code",
   "execution_count": 33,
   "metadata": {},
   "outputs": [
    {
     "name": "stdout",
     "output_type": "stream",
     "text": [
      "source1\n",
      "1.1\n",
      "1\n"
     ]
    }
   ],
   "source": [
    "for colname in t1.columns:\n",
    "    column = t1[colname]\n",
    "    print(column[0])"
   ]
  },
  {
   "cell_type": "markdown",
   "metadata": {},
   "source": [
    "You can do this with QTables, too. QTables have extra functionality:"
   ]
  },
  {
   "cell_type": "code",
   "execution_count": 34,
   "metadata": {},
   "outputs": [
    {
     "name": "stdout",
     "output_type": "stream",
     "text": [
      "1.0 cm <class 'astropy.units.quantity.Quantity'>\n",
      "5.0 cm <class 'astropy.units.quantity.Quantity'>\n",
      "4.0 cm <class 'astropy.units.quantity.Quantity'>\n"
     ]
    }
   ],
   "source": [
    "for row in qt1:\n",
    "    print(row['size'], type(row['size']))"
   ]
  },
  {
   "cell_type": "markdown",
   "metadata": {},
   "source": [
    "## Joining tables\n",
    "\n",
    "The astropy.table sub-package provides a few useful functions for stacking/combining tables. For example, we can do a 'join':"
   ]
  },
  {
   "cell_type": "markdown",
   "metadata": {},
   "source": [
    "add: https://docs.astropy.org/en/stable/table/operations.html#table-operations"
   ]
  },
  {
   "cell_type": "code",
   "execution_count": 37,
   "metadata": {},
   "outputs": [
    {
     "data": {
      "text/html": [
       "<i>Table length=2</i>\n",
       "<table id=\"table4835048720\" class=\"table-striped table-bordered table-condensed\">\n",
       "<thead><tr><th>name</th><th>flux2</th></tr></thead>\n",
       "<thead><tr><th>str7</th><th>int64</th></tr></thead>\n",
       "<tr><td>source1</td><td>1</td></tr>\n",
       "<tr><td>source3</td><td>9</td></tr>\n",
       "</table>"
      ],
      "text/plain": [
       "<Table length=2>\n",
       "  name  flux2\n",
       "  str7  int64\n",
       "------- -----\n",
       "source1     1\n",
       "source3     9"
      ]
     },
     "execution_count": 37,
     "metadata": {},
     "output_type": "execute_result"
    }
   ],
   "source": [
    "t2 = Table()\n",
    "t2['name'] = ['source1', 'source3']\n",
    "t2['flux2'] = [1, 9]\n",
    "t2"
   ]
  },
  {
   "cell_type": "markdown",
   "metadata": {},
   "source": [
    "There are lots of ways to do this- vstack, hstack, cstack (different ways to put tables together)"
   ]
  },
  {
   "cell_type": "code",
   "execution_count": 38,
   "metadata": {},
   "outputs": [],
   "source": [
    "from astropy.table import join"
   ]
  },
  {
   "cell_type": "code",
   "execution_count": 39,
   "metadata": {},
   "outputs": [
    {
     "data": {
      "text/html": [
       "<i>Table length=3</i>\n",
       "<table id=\"table4835016400\" class=\"table-striped table-bordered table-condensed\">\n",
       "<thead><tr><th>name</th><th>flux</th><th>size</th><th>flux2</th></tr></thead>\n",
       "<thead><tr><th></th><th>mJy</th><th>cm</th><th></th></tr></thead>\n",
       "<thead><tr><th>str7</th><th>float64</th><th>int64</th><th>int64</th></tr></thead>\n",
       "<tr><td>source1</td><td>1.1</td><td>1</td><td>1</td></tr>\n",
       "<tr><td>source2</td><td>1.2</td><td>5</td><td>--</td></tr>\n",
       "<tr><td>source3</td><td>1.3</td><td>4</td><td>9</td></tr>\n",
       "</table>"
      ],
      "text/plain": [
       "<Table length=3>\n",
       "  name    flux   size flux2\n",
       "          mJy     cm       \n",
       "  str7  float64 int64 int64\n",
       "------- ------- ----- -----\n",
       "source1     1.1     1     1\n",
       "source2     1.2     5    --\n",
       "source3     1.3     4     9"
      ]
     },
     "execution_count": 39,
     "metadata": {},
     "output_type": "execute_result"
    }
   ],
   "source": [
    "t3 = join(t1, t2, join_type='outer')\n",
    "t3"
   ]
  },
  {
   "cell_type": "code",
   "execution_count": 40,
   "metadata": {},
   "outputs": [
    {
     "data": {
      "text/plain": [
       "5.0"
      ]
     },
     "execution_count": 40,
     "metadata": {},
     "output_type": "execute_result"
    }
   ],
   "source": [
    "np.mean(t3['flux2'])"
   ]
  },
  {
   "cell_type": "markdown",
   "metadata": {},
   "source": [
    "## Masked tables\n",
    "\n",
    "It is possible to mask individual cells in tables:"
   ]
  },
  {
   "cell_type": "code",
   "execution_count": 41,
   "metadata": {},
   "outputs": [],
   "source": [
    "t4 = Table(masked=True)"
   ]
  },
  {
   "cell_type": "code",
   "execution_count": 42,
   "metadata": {},
   "outputs": [],
   "source": [
    "t4['id'] = [4, 5, 6]\n",
    "t4['flux'] = [1.3, 1.5, 1.6]"
   ]
  },
  {
   "cell_type": "code",
   "execution_count": 43,
   "metadata": {},
   "outputs": [
    {
     "data": {
      "text/html": [
       "<i>Table masked=True length=3</i>\n",
       "<table id=\"table4834966992\" class=\"table-striped table-bordered table-condensed\">\n",
       "<thead><tr><th>id</th><th>flux</th></tr></thead>\n",
       "<thead><tr><th>int64</th><th>float64</th></tr></thead>\n",
       "<tr><td>4</td><td>1.3</td></tr>\n",
       "<tr><td>5</td><td>1.5</td></tr>\n",
       "<tr><td>6</td><td>1.6</td></tr>\n",
       "</table>"
      ],
      "text/plain": [
       "<Table masked=True length=3>\n",
       "  id    flux \n",
       "int64 float64\n",
       "----- -------\n",
       "    4     1.3\n",
       "    5     1.5\n",
       "    6     1.6"
      ]
     },
     "execution_count": 43,
     "metadata": {},
     "output_type": "execute_result"
    }
   ],
   "source": [
    "t4"
   ]
  },
  {
   "cell_type": "code",
   "execution_count": 44,
   "metadata": {},
   "outputs": [
    {
     "data": {
      "text/html": [
       "<i>Table masked=True length=3</i>\n",
       "<table id=\"table4834966992\" class=\"table-striped table-bordered table-condensed\">\n",
       "<thead><tr><th>id</th><th>flux</th></tr></thead>\n",
       "<thead><tr><th>int64</th><th>float64</th></tr></thead>\n",
       "<tr><td>4</td><td>--</td></tr>\n",
       "<tr><td>5</td><td>1.5</td></tr>\n",
       "<tr><td>6</td><td>--</td></tr>\n",
       "</table>"
      ],
      "text/plain": [
       "<Table masked=True length=3>\n",
       "  id    flux \n",
       "int64 float64\n",
       "----- -------\n",
       "    4      --\n",
       "    5     1.5\n",
       "    6      --"
      ]
     },
     "execution_count": 44,
     "metadata": {},
     "output_type": "execute_result"
    }
   ],
   "source": [
    "t4['flux'].mask = [1, 0, 1]\n",
    "t4"
   ]
  },
  {
   "cell_type": "code",
   "execution_count": 45,
   "metadata": {},
   "outputs": [],
   "source": [
    "select = np.array([False, True, True])"
   ]
  },
  {
   "cell_type": "code",
   "execution_count": 47,
   "metadata": {},
   "outputs": [
    {
     "data": {
      "text/html": [
       "<i>Table masked=True length=2</i>\n",
       "<table id=\"table4834594064\" class=\"table-striped table-bordered table-condensed\">\n",
       "<thead><tr><th>id</th><th>flux</th></tr></thead>\n",
       "<thead><tr><th>int64</th><th>float64</th></tr></thead>\n",
       "<tr><td>5</td><td>1.5</td></tr>\n",
       "<tr><td>6</td><td>--</td></tr>\n",
       "</table>"
      ],
      "text/plain": [
       "<Table masked=True length=2>\n",
       "  id    flux \n",
       "int64 float64\n",
       "----- -------\n",
       "    5     1.5\n",
       "    6      --"
      ]
     },
     "execution_count": 47,
     "metadata": {},
     "output_type": "execute_result"
    }
   ],
   "source": [
    "t5 = t4[select]\n",
    "t5"
   ]
  },
  {
   "cell_type": "markdown",
   "metadata": {},
   "source": [
    "## Using high-level objects as columns\n",
    "\n",
    "A few specific astropy high-level objects can be used as columns in table - this includes SkyCoord and Time:"
   ]
  },
  {
   "cell_type": "code",
   "execution_count": 48,
   "metadata": {},
   "outputs": [],
   "source": [
    "from astropy.time import Time\n",
    "from astropy.coordinates import SkyCoord"
   ]
  },
  {
   "cell_type": "code",
   "execution_count": 49,
   "metadata": {},
   "outputs": [],
   "source": [
    "t6 = Table()"
   ]
  },
  {
   "cell_type": "code",
   "execution_count": 50,
   "metadata": {},
   "outputs": [],
   "source": [
    "t6['time'] = Time([50000, 51000, 52000], format='mjd')"
   ]
  },
  {
   "cell_type": "code",
   "execution_count": 51,
   "metadata": {},
   "outputs": [],
   "source": [
    "t6['coord'] = SkyCoord([1, 2, 3] * u.deg, [4, 5, 6] * u.deg)"
   ]
  },
  {
   "cell_type": "code",
   "execution_count": 52,
   "metadata": {},
   "outputs": [],
   "source": [
    "t6['flux'] = [1, 5, 4] * u.mJy"
   ]
  },
  {
   "cell_type": "code",
   "execution_count": 53,
   "metadata": {},
   "outputs": [
    {
     "data": {
      "text/html": [
       "<i>Table length=3</i>\n",
       "<table id=\"table4837369616\" class=\"table-striped table-bordered table-condensed\">\n",
       "<thead><tr><th>time</th><th>coord</th><th>flux</th></tr></thead>\n",
       "<thead><tr><th></th><th>deg,deg</th><th>mJy</th></tr></thead>\n",
       "<thead><tr><th>object</th><th>object</th><th>float64</th></tr></thead>\n",
       "<tr><td>50000.0</td><td>1.0,4.0</td><td>1.0</td></tr>\n",
       "<tr><td>51000.0</td><td>2.0,5.0</td><td>5.0</td></tr>\n",
       "<tr><td>52000.0</td><td>3.0,6.0</td><td>4.0</td></tr>\n",
       "</table>"
      ],
      "text/plain": [
       "<Table length=3>\n",
       "  time   coord    flux \n",
       "        deg,deg   mJy  \n",
       " object  object float64\n",
       "------- ------- -------\n",
       "50000.0 1.0,4.0     1.0\n",
       "51000.0 2.0,5.0     5.0\n",
       "52000.0 3.0,6.0     4.0"
      ]
     },
     "execution_count": 53,
     "metadata": {},
     "output_type": "execute_result"
    }
   ],
   "source": [
    "t6"
   ]
  },
  {
   "cell_type": "code",
   "execution_count": 54,
   "metadata": {},
   "outputs": [
    {
     "data": {
      "text/plain": [
       "<SkyCoord (ICRS): (ra, dec) in deg\n",
       "    (1., 4.)>"
      ]
     },
     "execution_count": 54,
     "metadata": {},
     "output_type": "execute_result"
    }
   ],
   "source": [
    "t6[0]['coord']"
   ]
  },
  {
   "cell_type": "markdown",
   "metadata": {},
   "source": [
    "Note however that you may not necessarily be able to write this table to a file and get it back intact, since being able to store this kind of information is not possible in all file formats."
   ]
  },
  {
   "cell_type": "markdown",
   "metadata": {},
   "source": [
    "## Slicing\n",
    "\n",
    "Tables can be sliced like Numpy arrays:"
   ]
  },
  {
   "cell_type": "code",
   "execution_count": 55,
   "metadata": {},
   "outputs": [],
   "source": [
    "obs = Table(rows=[('M31' , '2012-01-02', 17.0, 17.5),\n",
    "                  ('M31' , '2012-01-02', 17.1, 17.4),\n",
    "                  ('M101', '2012-01-02', 15.1, 13.5),\n",
    "                  ('M82' , '2012-02-14', 16.2, 14.5),\n",
    "                  ('M31' , '2012-02-14', 16.9, 17.3),\n",
    "                  ('M82' , '2012-02-14', 15.2, 15.5),\n",
    "                  ('M101', '2012-02-14', 15.0, 13.6),\n",
    "                  ('M82' , '2012-03-26', 15.7, 16.5),\n",
    "                  ('M101', '2012-03-26', 15.1, 13.5),\n",
    "                  ('M101', '2012-03-26', 14.8, 14.3)],\n",
    "            names=['name', 'obs_date', 'mag_b', 'mag_v'])"
   ]
  },
  {
   "cell_type": "code",
   "execution_count": 56,
   "metadata": {},
   "outputs": [
    {
     "data": {
      "text/html": [
       "<i>Table length=10</i>\n",
       "<table id=\"table4837506384\" class=\"table-striped table-bordered table-condensed\">\n",
       "<thead><tr><th>name</th><th>obs_date</th><th>mag_b</th><th>mag_v</th></tr></thead>\n",
       "<thead><tr><th>str4</th><th>str10</th><th>float64</th><th>float64</th></tr></thead>\n",
       "<tr><td>M31</td><td>2012-01-02</td><td>17.0</td><td>17.5</td></tr>\n",
       "<tr><td>M31</td><td>2012-01-02</td><td>17.1</td><td>17.4</td></tr>\n",
       "<tr><td>M101</td><td>2012-01-02</td><td>15.1</td><td>13.5</td></tr>\n",
       "<tr><td>M82</td><td>2012-02-14</td><td>16.2</td><td>14.5</td></tr>\n",
       "<tr><td>M31</td><td>2012-02-14</td><td>16.9</td><td>17.3</td></tr>\n",
       "<tr><td>M82</td><td>2012-02-14</td><td>15.2</td><td>15.5</td></tr>\n",
       "<tr><td>M101</td><td>2012-02-14</td><td>15.0</td><td>13.6</td></tr>\n",
       "<tr><td>M82</td><td>2012-03-26</td><td>15.7</td><td>16.5</td></tr>\n",
       "<tr><td>M101</td><td>2012-03-26</td><td>15.1</td><td>13.5</td></tr>\n",
       "<tr><td>M101</td><td>2012-03-26</td><td>14.8</td><td>14.3</td></tr>\n",
       "</table>"
      ],
      "text/plain": [
       "<Table length=10>\n",
       "name  obs_date   mag_b   mag_v \n",
       "str4   str10    float64 float64\n",
       "---- ---------- ------- -------\n",
       " M31 2012-01-02    17.0    17.5\n",
       " M31 2012-01-02    17.1    17.4\n",
       "M101 2012-01-02    15.1    13.5\n",
       " M82 2012-02-14    16.2    14.5\n",
       " M31 2012-02-14    16.9    17.3\n",
       " M82 2012-02-14    15.2    15.5\n",
       "M101 2012-02-14    15.0    13.6\n",
       " M82 2012-03-26    15.7    16.5\n",
       "M101 2012-03-26    15.1    13.5\n",
       "M101 2012-03-26    14.8    14.3"
      ]
     },
     "execution_count": 56,
     "metadata": {},
     "output_type": "execute_result"
    }
   ],
   "source": [
    "obs"
   ]
  },
  {
   "cell_type": "code",
   "execution_count": 57,
   "metadata": {},
   "outputs": [
    {
     "data": {
      "text/html": [
       "<i>Table length=3</i>\n",
       "<table id=\"table4837506640\" class=\"table-striped table-bordered table-condensed\">\n",
       "<thead><tr><th>name</th><th>obs_date</th><th>mag_b</th><th>mag_v</th></tr></thead>\n",
       "<thead><tr><th>str4</th><th>str10</th><th>float64</th><th>float64</th></tr></thead>\n",
       "<tr><td>M31</td><td>2012-01-02</td><td>17.1</td><td>17.4</td></tr>\n",
       "<tr><td>M101</td><td>2012-01-02</td><td>15.1</td><td>13.5</td></tr>\n",
       "<tr><td>M82</td><td>2012-02-14</td><td>16.2</td><td>14.5</td></tr>\n",
       "</table>"
      ],
      "text/plain": [
       "<Table length=3>\n",
       "name  obs_date   mag_b   mag_v \n",
       "str4   str10    float64 float64\n",
       "---- ---------- ------- -------\n",
       " M31 2012-01-02    17.1    17.4\n",
       "M101 2012-01-02    15.1    13.5\n",
       " M82 2012-02-14    16.2    14.5"
      ]
     },
     "execution_count": 57,
     "metadata": {},
     "output_type": "execute_result"
    }
   ],
   "source": [
    "obs[1:4]"
   ]
  },
  {
   "cell_type": "code",
   "execution_count": 58,
   "metadata": {},
   "outputs": [
    {
     "data": {
      "text/html": [
       "<i>Table length=5</i>\n",
       "<table id=\"table4834481616\" class=\"table-striped table-bordered table-condensed\">\n",
       "<thead><tr><th>name</th><th>obs_date</th><th>mag_b</th><th>mag_v</th></tr></thead>\n",
       "<thead><tr><th>str4</th><th>str10</th><th>float64</th><th>float64</th></tr></thead>\n",
       "<tr><td>M31</td><td>2012-01-02</td><td>17.0</td><td>17.5</td></tr>\n",
       "<tr><td>M31</td><td>2012-01-02</td><td>17.1</td><td>17.4</td></tr>\n",
       "<tr><td>M82</td><td>2012-02-14</td><td>16.2</td><td>14.5</td></tr>\n",
       "<tr><td>M31</td><td>2012-02-14</td><td>16.9</td><td>17.3</td></tr>\n",
       "<tr><td>M82</td><td>2012-03-26</td><td>15.7</td><td>16.5</td></tr>\n",
       "</table>"
      ],
      "text/plain": [
       "<Table length=5>\n",
       "name  obs_date   mag_b   mag_v \n",
       "str4   str10    float64 float64\n",
       "---- ---------- ------- -------\n",
       " M31 2012-01-02    17.0    17.5\n",
       " M31 2012-01-02    17.1    17.4\n",
       " M82 2012-02-14    16.2    14.5\n",
       " M31 2012-02-14    16.9    17.3\n",
       " M82 2012-03-26    15.7    16.5"
      ]
     },
     "execution_count": 58,
     "metadata": {},
     "output_type": "execute_result"
    }
   ],
   "source": [
    "obs[obs['mag_b'] > 15.5]"
   ]
  },
  {
   "cell_type": "code",
   "execution_count": 59,
   "metadata": {},
   "outputs": [
    {
     "data": {
      "text/html": [
       "<i>Table length=10</i>\n",
       "<table id=\"table4837369552\" class=\"table-striped table-bordered table-condensed\">\n",
       "<thead><tr><th>mag_b</th><th>mag_v</th></tr></thead>\n",
       "<thead><tr><th>float64</th><th>float64</th></tr></thead>\n",
       "<tr><td>17.0</td><td>17.5</td></tr>\n",
       "<tr><td>17.1</td><td>17.4</td></tr>\n",
       "<tr><td>15.1</td><td>13.5</td></tr>\n",
       "<tr><td>16.2</td><td>14.5</td></tr>\n",
       "<tr><td>16.9</td><td>17.3</td></tr>\n",
       "<tr><td>15.2</td><td>15.5</td></tr>\n",
       "<tr><td>15.0</td><td>13.6</td></tr>\n",
       "<tr><td>15.7</td><td>16.5</td></tr>\n",
       "<tr><td>15.1</td><td>13.5</td></tr>\n",
       "<tr><td>14.8</td><td>14.3</td></tr>\n",
       "</table>"
      ],
      "text/plain": [
       "<Table length=10>\n",
       " mag_b   mag_v \n",
       "float64 float64\n",
       "------- -------\n",
       "   17.0    17.5\n",
       "   17.1    17.4\n",
       "   15.1    13.5\n",
       "   16.2    14.5\n",
       "   16.9    17.3\n",
       "   15.2    15.5\n",
       "   15.0    13.6\n",
       "   15.7    16.5\n",
       "   15.1    13.5\n",
       "   14.8    14.3"
      ]
     },
     "execution_count": 59,
     "metadata": {},
     "output_type": "execute_result"
    }
   ],
   "source": [
    "obs['mag_b', 'mag_v']"
   ]
  },
  {
   "cell_type": "markdown",
   "metadata": {},
   "source": [
    "\n",
    "<section class=\"challenge panel panel-success\">\n",
    "<div class=\"panel-heading\">\n",
    "<h2><span class=\"fa fa-pencil\"></span> Challenge</h2>\n",
    "</div>\n",
    "\n",
    "\n",
    "<div class=\"panel-body\">\n",
    "\n",
    "<p>Starting from the <code>obs</code> table:</p>\n",
    "<ol>\n",
    "<li>Make a new table that shows every other row, starting with the second row? (that is, the second, fourth, sixth, etc. rows).</li>\n",
    "<li>Make a new table the only contains rows where <code>name</code> is <code>M31</code></li>\n",
    "</ol>\n",
    "\n",
    "</div>\n",
    "\n",
    "</section>\n"
   ]
  },
  {
   "cell_type": "code",
   "execution_count": null,
   "metadata": {},
   "outputs": [],
   "source": []
  },
  {
   "cell_type": "code",
   "execution_count": null,
   "metadata": {},
   "outputs": [],
   "source": []
  },
  {
   "cell_type": "markdown",
   "metadata": {},
   "source": [
    "## Grouping and Aggregation"
   ]
  },
  {
   "cell_type": "markdown",
   "metadata": {},
   "source": [
    "It is possible to aggregate rows of a table together - for example, to group the rows by source name in the ``obs`` table, you can do:"
   ]
  },
  {
   "cell_type": "code",
   "execution_count": 60,
   "metadata": {},
   "outputs": [
    {
     "data": {
      "text/html": [
       "<i>Table length=10</i>\n",
       "<table id=\"table4837506384\" class=\"table-striped table-bordered table-condensed\">\n",
       "<thead><tr><th>name</th><th>obs_date</th><th>mag_b</th><th>mag_v</th></tr></thead>\n",
       "<thead><tr><th>str4</th><th>str10</th><th>float64</th><th>float64</th></tr></thead>\n",
       "<tr><td>M31</td><td>2012-01-02</td><td>17.0</td><td>17.5</td></tr>\n",
       "<tr><td>M31</td><td>2012-01-02</td><td>17.1</td><td>17.4</td></tr>\n",
       "<tr><td>M101</td><td>2012-01-02</td><td>15.1</td><td>13.5</td></tr>\n",
       "<tr><td>M82</td><td>2012-02-14</td><td>16.2</td><td>14.5</td></tr>\n",
       "<tr><td>M31</td><td>2012-02-14</td><td>16.9</td><td>17.3</td></tr>\n",
       "<tr><td>M82</td><td>2012-02-14</td><td>15.2</td><td>15.5</td></tr>\n",
       "<tr><td>M101</td><td>2012-02-14</td><td>15.0</td><td>13.6</td></tr>\n",
       "<tr><td>M82</td><td>2012-03-26</td><td>15.7</td><td>16.5</td></tr>\n",
       "<tr><td>M101</td><td>2012-03-26</td><td>15.1</td><td>13.5</td></tr>\n",
       "<tr><td>M101</td><td>2012-03-26</td><td>14.8</td><td>14.3</td></tr>\n",
       "</table>"
      ],
      "text/plain": [
       "<Table length=10>\n",
       "name  obs_date   mag_b   mag_v \n",
       "str4   str10    float64 float64\n",
       "---- ---------- ------- -------\n",
       " M31 2012-01-02    17.0    17.5\n",
       " M31 2012-01-02    17.1    17.4\n",
       "M101 2012-01-02    15.1    13.5\n",
       " M82 2012-02-14    16.2    14.5\n",
       " M31 2012-02-14    16.9    17.3\n",
       " M82 2012-02-14    15.2    15.5\n",
       "M101 2012-02-14    15.0    13.6\n",
       " M82 2012-03-26    15.7    16.5\n",
       "M101 2012-03-26    15.1    13.5\n",
       "M101 2012-03-26    14.8    14.3"
      ]
     },
     "execution_count": 60,
     "metadata": {},
     "output_type": "execute_result"
    }
   ],
   "source": [
    "obs"
   ]
  },
  {
   "cell_type": "code",
   "execution_count": 61,
   "metadata": {},
   "outputs": [],
   "source": [
    "obs_by_name = obs.group_by('name')"
   ]
  },
  {
   "cell_type": "code",
   "execution_count": 62,
   "metadata": {},
   "outputs": [
    {
     "data": {
      "text/html": [
       "<i>Table length=10</i>\n",
       "<table id=\"table4536066448\" class=\"table-striped table-bordered table-condensed\">\n",
       "<thead><tr><th>name</th><th>obs_date</th><th>mag_b</th><th>mag_v</th></tr></thead>\n",
       "<thead><tr><th>str4</th><th>str10</th><th>float64</th><th>float64</th></tr></thead>\n",
       "<tr><td>M101</td><td>2012-01-02</td><td>15.1</td><td>13.5</td></tr>\n",
       "<tr><td>M101</td><td>2012-02-14</td><td>15.0</td><td>13.6</td></tr>\n",
       "<tr><td>M101</td><td>2012-03-26</td><td>15.1</td><td>13.5</td></tr>\n",
       "<tr><td>M101</td><td>2012-03-26</td><td>14.8</td><td>14.3</td></tr>\n",
       "<tr><td>M31</td><td>2012-01-02</td><td>17.0</td><td>17.5</td></tr>\n",
       "<tr><td>M31</td><td>2012-01-02</td><td>17.1</td><td>17.4</td></tr>\n",
       "<tr><td>M31</td><td>2012-02-14</td><td>16.9</td><td>17.3</td></tr>\n",
       "<tr><td>M82</td><td>2012-02-14</td><td>16.2</td><td>14.5</td></tr>\n",
       "<tr><td>M82</td><td>2012-02-14</td><td>15.2</td><td>15.5</td></tr>\n",
       "<tr><td>M82</td><td>2012-03-26</td><td>15.7</td><td>16.5</td></tr>\n",
       "</table>"
      ],
      "text/plain": [
       "<Table length=10>\n",
       "name  obs_date   mag_b   mag_v \n",
       "str4   str10    float64 float64\n",
       "---- ---------- ------- -------\n",
       "M101 2012-01-02    15.1    13.5\n",
       "M101 2012-02-14    15.0    13.6\n",
       "M101 2012-03-26    15.1    13.5\n",
       "M101 2012-03-26    14.8    14.3\n",
       " M31 2012-01-02    17.0    17.5\n",
       " M31 2012-01-02    17.1    17.4\n",
       " M31 2012-02-14    16.9    17.3\n",
       " M82 2012-02-14    16.2    14.5\n",
       " M82 2012-02-14    15.2    15.5\n",
       " M82 2012-03-26    15.7    16.5"
      ]
     },
     "execution_count": 62,
     "metadata": {},
     "output_type": "execute_result"
    }
   ],
   "source": [
    "obs_by_name"
   ]
  },
  {
   "cell_type": "markdown",
   "metadata": {},
   "source": [
    "This is not just sorting the values but actually making it possible to access each group of rows:"
   ]
  },
  {
   "cell_type": "code",
   "execution_count": 63,
   "metadata": {},
   "outputs": [
    {
     "name": "stdout",
     "output_type": "stream",
     "text": [
      "name  obs_date  mag_b mag_v\n",
      "---- ---------- ----- -----\n",
      "M101 2012-01-02  15.1  13.5\n",
      "M101 2012-02-14  15.0  13.6\n",
      "M101 2012-03-26  15.1  13.5\n",
      "M101 2012-03-26  14.8  14.3\n",
      "\n",
      "name  obs_date  mag_b mag_v\n",
      "---- ---------- ----- -----\n",
      " M31 2012-01-02  17.0  17.5\n",
      " M31 2012-01-02  17.1  17.4\n",
      " M31 2012-02-14  16.9  17.3\n",
      "\n",
      "name  obs_date  mag_b mag_v\n",
      "---- ---------- ----- -----\n",
      " M82 2012-02-14  16.2  14.5\n",
      " M82 2012-02-14  15.2  15.5\n",
      " M82 2012-03-26  15.7  16.5\n",
      "\n"
     ]
    }
   ],
   "source": [
    "for group in obs_by_name.groups:\n",
    "    print(group)\n",
    "    print(\"\")"
   ]
  },
  {
   "cell_type": "code",
   "execution_count": 64,
   "metadata": {},
   "outputs": [
    {
     "data": {
      "text/plain": [
       "<TableGroups indices=[ 0  4  7 10]>"
      ]
     },
     "execution_count": 64,
     "metadata": {},
     "output_type": "execute_result"
    }
   ],
   "source": [
    "obs_by_name.groups"
   ]
  },
  {
   "cell_type": "markdown",
   "metadata": {},
   "source": [
    "We can then aggregate the rows together in each group using a function:"
   ]
  },
  {
   "cell_type": "code",
   "execution_count": 65,
   "metadata": {},
   "outputs": [
    {
     "name": "stderr",
     "output_type": "stream",
     "text": [
      "WARNING: Cannot aggregate column 'obs_date' with type '<U10' [astropy.table.groups]\n"
     ]
    },
    {
     "data": {
      "text/html": [
       "<i>Table length=3</i>\n",
       "<table id=\"table4837370064\" class=\"table-striped table-bordered table-condensed\">\n",
       "<thead><tr><th>name</th><th>mag_b</th><th>mag_v</th></tr></thead>\n",
       "<thead><tr><th>str4</th><th>float64</th><th>float64</th></tr></thead>\n",
       "<tr><td>M101</td><td>15.000000000000002</td><td>13.725000000000001</td></tr>\n",
       "<tr><td>M31</td><td>17.0</td><td>17.400000000000002</td></tr>\n",
       "<tr><td>M82</td><td>15.699999999999998</td><td>15.5</td></tr>\n",
       "</table>"
      ],
      "text/plain": [
       "<Table length=3>\n",
       "name       mag_b              mag_v       \n",
       "str4      float64            float64      \n",
       "---- ------------------ ------------------\n",
       "M101 15.000000000000002 13.725000000000001\n",
       " M31               17.0 17.400000000000002\n",
       " M82 15.699999999999998               15.5"
      ]
     },
     "execution_count": 65,
     "metadata": {},
     "output_type": "execute_result"
    }
   ],
   "source": [
    "obs_by_name.groups.aggregate(np.mean)"
   ]
  },
  {
   "cell_type": "code",
   "execution_count": 66,
   "metadata": {},
   "outputs": [
    {
     "data": {
      "text/html": [
       "<i>Table length=3</i>\n",
       "<table id=\"table4837391632\" class=\"table-striped table-bordered table-condensed\">\n",
       "<thead><tr><th>name</th><th>mag_v</th></tr></thead>\n",
       "<thead><tr><th>str4</th><th>float64</th></tr></thead>\n",
       "<tr><td>M101</td><td>13.725000000000001</td></tr>\n",
       "<tr><td>M31</td><td>17.400000000000002</td></tr>\n",
       "<tr><td>M82</td><td>15.5</td></tr>\n",
       "</table>"
      ],
      "text/plain": [
       "<Table length=3>\n",
       "name       mag_v       \n",
       "str4      float64      \n",
       "---- ------------------\n",
       "M101 13.725000000000001\n",
       " M31 17.400000000000002\n",
       " M82               15.5"
      ]
     },
     "execution_count": 66,
     "metadata": {},
     "output_type": "execute_result"
    }
   ],
   "source": [
    "obs_by_name['name', 'mag_v'].groups.aggregate(np.mean)"
   ]
  },
  {
   "cell_type": "markdown",
   "metadata": {},
   "source": [
    "## Writing data\n",
    "\n",
    "To write out the data, we can use the ``write`` method:"
   ]
  },
  {
   "cell_type": "code",
   "execution_count": 67,
   "metadata": {},
   "outputs": [
    {
     "data": {
      "text/html": [
       "<i>Table length=10</i>\n",
       "<table id=\"table4837506384\" class=\"table-striped table-bordered table-condensed\">\n",
       "<thead><tr><th>name</th><th>obs_date</th><th>mag_b</th><th>mag_v</th></tr></thead>\n",
       "<thead><tr><th>str4</th><th>str10</th><th>float64</th><th>float64</th></tr></thead>\n",
       "<tr><td>M31</td><td>2012-01-02</td><td>17.0</td><td>17.5</td></tr>\n",
       "<tr><td>M31</td><td>2012-01-02</td><td>17.1</td><td>17.4</td></tr>\n",
       "<tr><td>M101</td><td>2012-01-02</td><td>15.1</td><td>13.5</td></tr>\n",
       "<tr><td>M82</td><td>2012-02-14</td><td>16.2</td><td>14.5</td></tr>\n",
       "<tr><td>M31</td><td>2012-02-14</td><td>16.9</td><td>17.3</td></tr>\n",
       "<tr><td>M82</td><td>2012-02-14</td><td>15.2</td><td>15.5</td></tr>\n",
       "<tr><td>M101</td><td>2012-02-14</td><td>15.0</td><td>13.6</td></tr>\n",
       "<tr><td>M82</td><td>2012-03-26</td><td>15.7</td><td>16.5</td></tr>\n",
       "<tr><td>M101</td><td>2012-03-26</td><td>15.1</td><td>13.5</td></tr>\n",
       "<tr><td>M101</td><td>2012-03-26</td><td>14.8</td><td>14.3</td></tr>\n",
       "</table>"
      ],
      "text/plain": [
       "<Table length=10>\n",
       "name  obs_date   mag_b   mag_v \n",
       "str4   str10    float64 float64\n",
       "---- ---------- ------- -------\n",
       " M31 2012-01-02    17.0    17.5\n",
       " M31 2012-01-02    17.1    17.4\n",
       "M101 2012-01-02    15.1    13.5\n",
       " M82 2012-02-14    16.2    14.5\n",
       " M31 2012-02-14    16.9    17.3\n",
       " M82 2012-02-14    15.2    15.5\n",
       "M101 2012-02-14    15.0    13.6\n",
       " M82 2012-03-26    15.7    16.5\n",
       "M101 2012-03-26    15.1    13.5\n",
       "M101 2012-03-26    14.8    14.3"
      ]
     },
     "execution_count": 67,
     "metadata": {},
     "output_type": "execute_result"
    }
   ],
   "source": [
    "obs"
   ]
  },
  {
   "cell_type": "code",
   "execution_count": 68,
   "metadata": {},
   "outputs": [],
   "source": [
    "obs.write('test.fits')"
   ]
  },
  {
   "cell_type": "code",
   "execution_count": 69,
   "metadata": {},
   "outputs": [],
   "source": [
    "obs.write('test.tex')"
   ]
  },
  {
   "cell_type": "markdown",
   "metadata": {},
   "source": [
    "In some cases the format will be inferred from the extension, but only in unambiguous cases - otherwise the format has to be specified explicitly:"
   ]
  },
  {
   "cell_type": "code",
   "execution_count": 70,
   "metadata": {},
   "outputs": [],
   "source": [
    "obs.write('test.vot', format='votable', overwrite=True)"
   ]
  },
  {
   "cell_type": "markdown",
   "metadata": {},
   "source": [
    "You can find the [list of supported formats](https://docs.astropy.org/en/stable/io/unified.html#built-in-table-readers-writers) in the documentation."
   ]
  },
  {
   "cell_type": "markdown",
   "metadata": {},
   "source": [
    "## Reading data\n",
    "\n",
    "You can also easily read in tables using the ``read`` method:"
   ]
  },
  {
   "cell_type": "code",
   "execution_count": 71,
   "metadata": {},
   "outputs": [],
   "source": [
    "t7 = Table.read('data/2mass.tbl', format='ascii.ipac')"
   ]
  },
  {
   "cell_type": "code",
   "execution_count": 72,
   "metadata": {},
   "outputs": [
    {
     "name": "stdout",
     "output_type": "stream",
     "text": [
      "========================================\n",
      "Table.read(format='ascii') documentation\n",
      "========================================\n",
      "\n",
      "Read the input ``table`` and return the table.  Most of\n",
      "the default behavior for various parameters is determined by the Reader\n",
      "class.\n",
      "\n",
      "See also:\n",
      "\n",
      "- https://docs.astropy.org/en/stable/io/ascii/\n",
      "- https://docs.astropy.org/en/stable/io/ascii/read.html\n",
      "\n",
      "Parameters\n",
      "----------\n",
      "table : str, file-like, list, `pathlib.Path` object\n",
      "    Input table as a file name, file-like object, list of string[s],\n",
      "    single newline-separated string or `pathlib.Path` object.\n",
      "guess : bool\n",
      "    Try to guess the table format. Defaults to None.\n",
      "format : str, `~astropy.io.ascii.BaseReader`\n",
      "    Input table format\n",
      "Inputter : `~astropy.io.ascii.BaseInputter`\n",
      "    Inputter class\n",
      "Outputter : `~astropy.io.ascii.BaseOutputter`\n",
      "    Outputter class\n",
      "delimiter : str\n",
      "    Column delimiter string\n",
      "comment : str\n",
      "    Regular expression defining a comment line in table\n",
      "quotechar : str\n",
      "    One-character string to quote fields containing special characters\n",
      "header_start : int\n",
      "    Line index for the header line not counting comment or blank lines.\n",
      "    A line with only whitespace is considered blank.\n",
      "data_start : int\n",
      "    Line index for the start of data not counting comment or blank lines.\n",
      "    A line with only whitespace is considered blank.\n",
      "data_end : int\n",
      "    Line index for the end of data not counting comment or blank lines.\n",
      "    This value can be negative to count from the end.\n",
      "converters : dict\n",
      "    Dictionary of converters\n",
      "data_Splitter : `~astropy.io.ascii.BaseSplitter`\n",
      "    Splitter class to split data columns\n",
      "header_Splitter : `~astropy.io.ascii.BaseSplitter`\n",
      "    Splitter class to split header columns\n",
      "names : list\n",
      "    List of names corresponding to each data column\n",
      "include_names : list\n",
      "    List of names to include in output.\n",
      "exclude_names : list\n",
      "    List of names to exclude from output (applied after ``include_names``)\n",
      "fill_values : tuple, list of tuple\n",
      "    specification of fill values for bad or missing table values\n",
      "fill_include_names : list\n",
      "    List of names to include in fill_values.\n",
      "fill_exclude_names : list\n",
      "    List of names to exclude from fill_values (applied after ``fill_include_names``)\n",
      "fast_reader : bool, str or dict\n",
      "    Whether to use the C engine, can also be a dict with options which\n",
      "    defaults to `False`; parameters for options dict:\n",
      "\n",
      "    use_fast_converter: bool\n",
      "        enable faster but slightly imprecise floating point conversion method\n",
      "    parallel: bool or int\n",
      "        multiprocessing conversion using ``cpu_count()`` or ``'number'`` processes\n",
      "    exponent_style: str\n",
      "        One-character string defining the exponent or ``'Fortran'`` to auto-detect\n",
      "        Fortran-style scientific notation like ``'3.14159D+00'`` (``'E'``, ``'D'``, ``'Q'``),\n",
      "        all case-insensitive; default ``'E'``, all other imply ``use_fast_converter``\n",
      "    chunk_size : int\n",
      "        If supplied with a value > 0 then read the table in chunks of\n",
      "        approximately ``chunk_size`` bytes. Default is reading table in one pass.\n",
      "    chunk_generator : bool\n",
      "        If True and ``chunk_size > 0`` then return an iterator that returns a\n",
      "        table for each chunk.  The default is to return a single stacked table\n",
      "        for all the chunks.\n",
      "\n",
      "encoding : str\n",
      "    Allow to specify encoding to read the file (default= ``None``).\n",
      "\n",
      "Returns\n",
      "-------\n",
      "dat : `~astropy.table.Table` OR <generator>\n",
      "    Output table\n",
      "\n",
      "ASCII reader 'ascii' details\n",
      "============================\n",
      "\n",
      "Character-delimited table with a single header line at the top.\n",
      "\n",
      "Lines beginning with a comment character (default='#') as the first\n",
      "non-whitespace character are comments.\n",
      "\n",
      "Example table::\n",
      "\n",
      "  # Column definition is the first uncommented line\n",
      "  # Default delimiter is the space character.\n",
      "  apples oranges pears\n",
      "\n",
      "  # Data starts after the header column definition, blank lines ignored\n",
      "  1 2 3\n",
      "  4 5 6"
     ]
    }
   ],
   "source": [
    "Table.read.help('ascii')"
   ]
  },
  {
   "cell_type": "code",
   "execution_count": 74,
   "metadata": {},
   "outputs": [],
   "source": [
    "t8 = Table.read('data/gaia_lmc_psc.fits')"
   ]
  },
  {
   "cell_type": "code",
   "execution_count": 75,
   "metadata": {},
   "outputs": [
    {
     "data": {
      "text/html": [
       "<i>Table length=1226</i>\n",
       "<table id=\"table4839437520\" class=\"table-striped table-bordered table-condensed\">\n",
       "<thead><tr><th>source_id</th><th>ra</th><th>ra_error</th><th>dec</th><th>dec_error</th><th>parallax</th><th>parallax_error</th><th>phot_g_mean_mag</th><th>bp_rp</th><th>radial_velocity</th><th>radial_velocity_error</th><th>phot_variable_flag</th><th>teff_val</th><th>a_g_val</th></tr></thead>\n",
       "<thead><tr><th>int64</th><th>float64</th><th>float64</th><th>float64</th><th>float64</th><th>float64</th><th>float64</th><th>float32</th><th>float32</th><th>float64</th><th>float64</th><th>bytes13</th><th>float32</th><th>float32</th></tr></thead>\n",
       "<tr><td>4650802592000604416</td><td>87.07819921385541</td><td>0.021177289402850533</td><td>-71.9758462572808</td><td>0.023118971922399856</td><td>1.9515300334170036</td><td>0.022129316045590156</td><td>9.447254</td><td>1.3508034</td><td>60.90398378334771</td><td>0.2792654428569048</td><td>NOT_AVAILABLE</td><td>4558.4004</td><td>0.292</td></tr>\n",
       "<tr><td>4654524816824470144</td><td>74.41054299130985</td><td>0.023043629903234147</td><td>-71.69279844885818</td><td>0.023510209030041487</td><td>0.9532188638663136</td><td>0.02339411705460298</td><td>10.067117</td><td>1.5253868</td><td>-14.48511977709958</td><td>0.22425351318898115</td><td>NOT_AVAILABLE</td><td>4297.3867</td><td>0.2825</td></tr>\n",
       "<tr><td>4654529695907256832</td><td>74.20814124067418</td><td>0.07882566958428994</td><td>-71.61632605005579</td><td>0.05787066182603759</td><td>2.3901953811128607</td><td>0.05452097913656001</td><td>9.930226</td><td>1.3181801</td><td>46.38448485466361</td><td>2.490830888596897</td><td>NOT_AVAILABLE</td><td>4637.565</td><td>nan</td></tr>\n",
       "<tr><td>4654557218058933760</td><td>73.18224206495864</td><td>0.02566576394382618</td><td>-71.57203874651691</td><td>0.023184091706528888</td><td>8.467976171104247</td><td>0.024934154792585914</td><td>9.095835</td><td>0.6556463</td><td>49.49827252135888</td><td>0.2219686958314872</td><td>NOT_AVAILABLE</td><td>6255.75</td><td>0.132</td></tr>\n",
       "<tr><td>5279853466498770816</td><td>94.44753106184642</td><td>0.03057782849457327</td><td>-68.60869574722126</td><td>0.04155980825556449</td><td>4.915939636800765</td><td>0.03590801116219821</td><td>10.310742</td><td>0.74726105</td><td>37.385157965047355</td><td>0.4835527467303836</td><td>NOT_AVAILABLE</td><td>5915.3003</td><td>0.309</td></tr>\n",
       "<tr><td>4662917595229314944</td><td>73.09902402736357</td><td>0.031716989446635716</td><td>-66.24090336494024</td><td>0.02434918668808062</td><td>1.2843391476325927</td><td>0.027022816638180115</td><td>10.124996</td><td>1.1030893</td><td>27.543957838023847</td><td>1.320355612047364</td><td>NOT_AVAILABLE</td><td>4978.6665</td><td>nan</td></tr>\n",
       "<tr><td>4662931304765244288</td><td>72.79394552845352</td><td>0.07339225726421537</td><td>-65.97530694819791</td><td>0.07784922165620814</td><td>4.073463462498102</td><td>0.07694028124440017</td><td>10.244692</td><td>0.7755623</td><td>nan</td><td>nan</td><td>NOT_AVAILABLE</td><td>5813.5</td><td>nan</td></tr>\n",
       "<tr><td>4662942334232773888</td><td>72.43114765425396</td><td>1.687482616173613</td><td>-65.96502066188053</td><td>1.4133043528817208</td><td>nan</td><td>nan</td><td>10.448099</td><td>1.0799913</td><td>nan</td><td>nan</td><td>NOT_AVAILABLE</td><td>5095.6333</td><td>nan</td></tr>\n",
       "<tr><td>4662942329938049024</td><td>72.43067172359882</td><td>0.6134998277695469</td><td>-65.96503044762075</td><td>0.6321611818144194</td><td>nan</td><td>nan</td><td>10.3262005</td><td>1.0531683</td><td>nan</td><td>nan</td><td>NOT_AVAILABLE</td><td>5095.6333</td><td>nan</td></tr>\n",
       "<tr><td>4650849699215954816</td><td>85.9358409789104</td><td>0.019448048806558142</td><td>-72.57450324077449</td><td>0.022323713004362908</td><td>1.715607895242854</td><td>0.02089038692053393</td><td>9.395902</td><td>1.2457638</td><td>-19.680094065802184</td><td>0.2737400682260026</td><td>NOT_AVAILABLE</td><td>4966.325</td><td>0.086</td></tr>\n",
       "<tr><td>...</td><td>...</td><td>...</td><td>...</td><td>...</td><td>...</td><td>...</td><td>...</td><td>...</td><td>...</td><td>...</td><td>...</td><td>...</td><td>...</td></tr>\n",
       "<tr><td>4661333297749459712</td><td>75.76725658539321</td><td>0.08021661228698174</td><td>-68.51130827334205</td><td>0.09015473505398257</td><td>10.645419504390388</td><td>0.08816586359479624</td><td>9.027634</td><td>0.8210316</td><td>20.2941475665086</td><td>0.6357640574303197</td><td>NOT_AVAILABLE</td><td>5801.6665</td><td>0.399</td></tr>\n",
       "<tr><td>4657284625434796672</td><td>83.68286054825961</td><td>0.03691085887890347</td><td>-69.471862415847</td><td>0.04208622015949421</td><td>1.9338362278879309</td><td>0.03591799353912885</td><td>8.859563</td><td>0.11706829</td><td>nan</td><td>nan</td><td>NOT_AVAILABLE</td><td>8782.0</td><td>0.6133</td></tr>\n",
       "<tr><td>4661424527190577920</td><td>76.79053200876875</td><td>0.020543235240144064</td><td>-67.91761630755975</td><td>0.023013444511712146</td><td>0.7774498662621923</td><td>0.022474718246432743</td><td>10.393125</td><td>1.0567284</td><td>83.9074929876509</td><td>0.36591083175338246</td><td>NOT_AVAILABLE</td><td>5117.76</td><td>nan</td></tr>\n",
       "<tr><td>4656984252552905600</td><td>87.85973994560447</td><td>0.029743709298872704</td><td>-70.479328656167</td><td>0.03678465814732507</td><td>4.808439927475021</td><td>0.0316830990051319</td><td>8.336407</td><td>0.10995674</td><td>nan</td><td>nan</td><td>NOT_AVAILABLE</td><td>8960.45</td><td>0.2753</td></tr>\n",
       "<tr><td>4657309295660733184</td><td>88.71436033931396</td><td>0.03263566067977321</td><td>-70.50822357790784</td><td>0.03797407284788695</td><td>10.388045762423692</td><td>0.031155846184985195</td><td>8.1692505</td><td>0.5678458</td><td>4.069197565170086</td><td>6.759819483344892</td><td>NOT_AVAILABLE</td><td>6598.033</td><td>0.187</td></tr>\n",
       "<tr><td>4655751970567496064</td><td>69.66033697976364</td><td>0.021673892097135883</td><td>-69.75566225825776</td><td>0.02121465218887403</td><td>4.307598999143658</td><td>0.02115482988900332</td><td>9.895984</td><td>0.76993084</td><td>41.89557385926844</td><td>1.1053569771727048</td><td>NOT_AVAILABLE</td><td>5821.85</td><td>nan</td></tr>\n",
       "<tr><td>4657623137529101824</td><td>85.71911145734775</td><td>0.02330547812873165</td><td>-69.40088952057638</td><td>0.032349151810491306</td><td>3.5522939739854515</td><td>0.0307049135837131</td><td>10.492002</td><td>0.61999226</td><td>-1.6860188773348286</td><td>5.692475975197368</td><td>NOT_AVAILABLE</td><td>6342.647</td><td>0.622</td></tr>\n",
       "<tr><td>4655429336950537344</td><td>72.34317802633602</td><td>0.08263071118926058</td><td>-69.19133990602016</td><td>0.1771165688451155</td><td>2.2534377274659323</td><td>0.1120789079572744</td><td>10.428025</td><td>0.7687664</td><td>30.098224636699406</td><td>2.9908645299313927</td><td>NOT_AVAILABLE</td><td>5951.0</td><td>nan</td></tr>\n",
       "<tr><td>4655428065639154176</td><td>71.91821339994686</td><td>0.018571231221459143</td><td>-69.13579315664118</td><td>0.019380159707629775</td><td>3.0803607467261434</td><td>0.019423387802699168</td><td>10.121742</td><td>1.2392492</td><td>-5.997742621024996</td><td>0.7122893087577844</td><td>NOT_AVAILABLE</td><td>4844.18</td><td>nan</td></tr>\n",
       "<tr><td>4655436827373195136</td><td>72.0678084958562</td><td>0.022815560488628858</td><td>-68.96336398067442</td><td>0.020961280412869075</td><td>1.4806341339787665</td><td>0.022311865860251703</td><td>10.3615265</td><td>1.3816099</td><td>9.533130604271184</td><td>0.3582466465386999</td><td>NOT_AVAILABLE</td><td>4564.83</td><td>0.617</td></tr>\n",
       "</table>"
      ],
      "text/plain": [
       "<Table length=1226>\n",
       "     source_id              ra              ra_error       ...  teff_val a_g_val\n",
       "       int64             float64            float64        ...  float32  float32\n",
       "------------------- ----------------- -------------------- ... --------- -------\n",
       "4650802592000604416 87.07819921385541 0.021177289402850533 ... 4558.4004   0.292\n",
       "4654524816824470144 74.41054299130985 0.023043629903234147 ... 4297.3867  0.2825\n",
       "4654529695907256832 74.20814124067418  0.07882566958428994 ...  4637.565     nan\n",
       "4654557218058933760 73.18224206495864  0.02566576394382618 ...   6255.75   0.132\n",
       "5279853466498770816 94.44753106184642  0.03057782849457327 ... 5915.3003   0.309\n",
       "4662917595229314944 73.09902402736357 0.031716989446635716 ... 4978.6665     nan\n",
       "4662931304765244288 72.79394552845352  0.07339225726421537 ...    5813.5     nan\n",
       "4662942334232773888 72.43114765425396    1.687482616173613 ... 5095.6333     nan\n",
       "4662942329938049024 72.43067172359882   0.6134998277695469 ... 5095.6333     nan\n",
       "4650849699215954816  85.9358409789104 0.019448048806558142 ...  4966.325   0.086\n",
       "                ...               ...                  ... ...       ...     ...\n",
       "4661333297749459712 75.76725658539321  0.08021661228698174 ... 5801.6665   0.399\n",
       "4657284625434796672 83.68286054825961  0.03691085887890347 ...    8782.0  0.6133\n",
       "4661424527190577920 76.79053200876875 0.020543235240144064 ...   5117.76     nan\n",
       "4656984252552905600 87.85973994560447 0.029743709298872704 ...   8960.45  0.2753\n",
       "4657309295660733184 88.71436033931396  0.03263566067977321 ...  6598.033   0.187\n",
       "4655751970567496064 69.66033697976364 0.021673892097135883 ...   5821.85     nan\n",
       "4657623137529101824 85.71911145734775  0.02330547812873165 ...  6342.647   0.622\n",
       "4655429336950537344 72.34317802633602  0.08263071118926058 ...    5951.0     nan\n",
       "4655428065639154176 71.91821339994686 0.018571231221459143 ...   4844.18     nan\n",
       "4655436827373195136  72.0678084958562 0.022815560488628858 ...   4564.83   0.617"
      ]
     },
     "execution_count": 75,
     "metadata": {},
     "output_type": "execute_result"
    }
   ],
   "source": [
    "t8"
   ]
  },
  {
   "cell_type": "code",
   "execution_count": 77,
   "metadata": {},
   "outputs": [],
   "source": [
    "t9 = Table.read('data/xmm-log.vot')"
   ]
  },
  {
   "cell_type": "code",
   "execution_count": 78,
   "metadata": {},
   "outputs": [
    {
     "data": {
      "text/html": [
       "<i>Table length=100</i>\n",
       "<table id=\"table4837503632\" class=\"table-striped table-bordered table-condensed\">\n",
       "<thead><tr><th>Obsno</th><th>PropDate</th><th>Object</th><th>RAJ2000</th><th>DEJ2000</th><th>Obs0</th><th>ObsDur</th><th>Image</th><th>PPSp</th><th>FITS</th><th>XSAlink</th><th>SASVersion</th></tr></thead>\n",
       "<thead><tr><th></th><th>s</th><th></th><th>deg</th><th>deg</th><th>s</th><th>s</th><th></th><th></th><th></th><th></th><th></th></tr></thead>\n",
       "<thead><tr><th>str10</th><th>str10</th><th>str30</th><th>float64</th><th>float64</th><th>str19</th><th>int32</th><th>str1</th><th>str4</th><th>str4</th><th>str1</th><th>str5</th></tr></thead>\n",
       "<tr><td>0000110101</td><td>2002-09-29</td><td>XTE J0421+560</td><td>64.92542</td><td>55.99944</td><td>2001-08-19T07:05:23</td><td>32913</td><td>Y</td><td>PPSp</td><td>FITS</td><td>Y</td><td>9.0</td></tr>\n",
       "<tr><td>0001730101</td><td>2004-12-31</td><td></td><td>--</td><td>--</td><td>2002-03-18T06:40:01</td><td>25296</td><td>N</td><td>PPSp</td><td>FITS</td><td>N</td><td>NOPPS</td></tr>\n",
       "<tr><td>0001730201</td><td>2002-05-25</td><td>HD159176</td><td>263.67495</td><td>-32.58167</td><td>2001-03-09T12:44:21</td><td>17083</td><td>Y</td><td>PPSp</td><td>FITS</td><td>Y</td><td>9.0</td></tr>\n",
       "<tr><td>0001730301</td><td>2002-05-25</td><td>HD159176</td><td>263.67495</td><td>-32.58167</td><td>2001-03-09T17:30:16</td><td>9362</td><td>N</td><td>PPSp</td><td>FITS</td><td>Y</td><td>9.0</td></tr>\n",
       "<tr><td>0001730401</td><td>2002-05-25</td><td>HD159176</td><td>263.67495</td><td>-32.58167</td><td>2001-03-09T09:41:25</td><td>10859</td><td>N</td><td>PPSp</td><td>FITS</td><td>Y</td><td>9.0</td></tr>\n",
       "<tr><td>0001730501</td><td>2004-12-31</td><td>HD47129</td><td>99.34999</td><td>6.13528</td><td>2002-09-17T18:35:28</td><td>21939</td><td>N</td><td>PPSp</td><td>FITS</td><td>Y</td><td>9.0</td></tr>\n",
       "<tr><td>0001730601</td><td>2004-12-31</td><td>HD47129</td><td>99.34999</td><td>6.13528</td><td>2003-03-16T16:01:51</td><td>21863</td><td>Y</td><td>PPSp</td><td>FITS</td><td>Y</td><td>9.0</td></tr>\n",
       "<tr><td>0001930101</td><td>2002-09-18</td><td>IRAS F00235+1024</td><td>6.52917</td><td>10.68917</td><td>2001-01-10T18:47:04</td><td>26609</td><td>Y</td><td>PPSp</td><td>FITS</td><td>Y</td><td>9.0</td></tr>\n",
       "<tr><td>0001930301</td><td>2003-01-16</td><td>IRAS F12514+1027</td><td>193.50000</td><td>10.18639</td><td>2001-12-28T14:44:54</td><td>25192</td><td>Y</td><td>PPSp</td><td>FITS</td><td>Y</td><td>9.0</td></tr>\n",
       "<tr><td>...</td><td>...</td><td>...</td><td>...</td><td>...</td><td>...</td><td>...</td><td>...</td><td>...</td><td>...</td><td>...</td><td>...</td></tr>\n",
       "<tr><td>0009221601</td><td>2003-10-11</td><td>Mrk 3</td><td>93.90125</td><td>71.03750</td><td>2002-09-16T05:09:12</td><td>7891</td><td>Y</td><td>PPSp</td><td>FITS</td><td>Y</td><td>9.0</td></tr>\n",
       "<tr><td>0009650101</td><td>2002-11-02</td><td>AO Psc</td><td>343.82505</td><td>-3.17808</td><td>2001-06-09T13:06:45</td><td>41415</td><td>Y</td><td>PPSp</td><td>FITS</td><td>Y</td><td>9.0</td></tr>\n",
       "<tr><td>0009650201</td><td>2002-09-20</td><td>FO Aqr</td><td>334.48125</td><td>-8.35142</td><td>2001-05-12T09:00:05</td><td>36590</td><td>Y</td><td>PPSp</td><td>FITS</td><td>Y</td><td>9.0</td></tr>\n",
       "<tr><td>0009650301</td><td>2002-09-20</td><td>FO Aqr</td><td>334.48125</td><td>-8.35142</td><td>2001-05-12T06:00:29</td><td>10336</td><td>N</td><td>PPSp</td><td>FITS</td><td>Y</td><td>9.0</td></tr>\n",
       "<tr><td>0010420201</td><td>2002-10-08</td><td>Abell 1644</td><td>194.36670</td><td>-17.34628</td><td>2001-01-08T15:58:43</td><td>22806</td><td>Y</td><td>PPSp</td><td>FITS</td><td>Y</td><td>9.0</td></tr>\n",
       "<tr><td>0010420701</td><td>2002-10-08</td><td>Abell 1644</td><td>194.36670</td><td>-17.34628</td><td>2001-01-08T12:48:31</td><td>10908</td><td>N</td><td>PPSp</td><td>FITS</td><td>Y</td><td>9.0</td></tr>\n",
       "<tr><td>0010620101</td><td>2003-01-05</td><td>V1309 Ori</td><td>78.92250</td><td>1.07797</td><td>2001-03-17T23:37:57</td><td>31641</td><td>Y</td><td>PPSp</td><td>FITS</td><td>Y</td><td>9.0</td></tr>\n",
       "<tr><td>0011420101</td><td>2002-09-19</td><td>NGC 2264 north</td><td>100.18043</td><td>9.85000</td><td>2001-03-20T02:21:43</td><td>41413</td><td>Y</td><td>PPSp</td><td>FITS</td><td>Y</td><td>9.0</td></tr>\n",
       "<tr><td>0011420201</td><td>2003-05-10</td><td>NGC 2264 south</td><td>100.27291</td><td>9.52778</td><td>2002-03-17T18:05:47</td><td>41760</td><td>Y</td><td>PPSp</td><td>FITS</td><td>Y</td><td>9.0</td></tr>\n",
       "<tr><td>0011430201</td><td>2003-07-04</td><td>CTA1</td><td>1.75833</td><td>73.04972</td><td>2002-02-21T18:56:32</td><td>41594</td><td>Y</td><td>PPSp</td><td>FITS</td><td>Y</td><td>9.0</td></tr>\n",
       "</table>"
      ],
      "text/plain": [
       "<Table length=100>\n",
       "  Obsno     PropDate       Object       RAJ2000  ... FITS XSAlink SASVersion\n",
       "               s                          deg    ...                        \n",
       "  str10      str10         str30        float64  ... str4   str1     str5   \n",
       "---------- ---------- ---------------- --------- ... ---- ------- ----------\n",
       "0000110101 2002-09-29    XTE J0421+560  64.92542 ... FITS       Y        9.0\n",
       "0001730101 2004-12-31                         -- ... FITS       N      NOPPS\n",
       "0001730201 2002-05-25         HD159176 263.67495 ... FITS       Y        9.0\n",
       "0001730301 2002-05-25         HD159176 263.67495 ... FITS       Y        9.0\n",
       "0001730401 2002-05-25         HD159176 263.67495 ... FITS       Y        9.0\n",
       "0001730501 2004-12-31          HD47129  99.34999 ... FITS       Y        9.0\n",
       "0001730601 2004-12-31          HD47129  99.34999 ... FITS       Y        9.0\n",
       "0001930101 2002-09-18 IRAS F00235+1024   6.52917 ... FITS       Y        9.0\n",
       "0001930301 2003-01-16 IRAS F12514+1027 193.50000 ... FITS       Y        9.0\n",
       "       ...        ...              ...       ... ...  ...     ...        ...\n",
       "0009221601 2003-10-11            Mrk 3  93.90125 ... FITS       Y        9.0\n",
       "0009650101 2002-11-02           AO Psc 343.82505 ... FITS       Y        9.0\n",
       "0009650201 2002-09-20           FO Aqr 334.48125 ... FITS       Y        9.0\n",
       "0009650301 2002-09-20           FO Aqr 334.48125 ... FITS       Y        9.0\n",
       "0010420201 2002-10-08       Abell 1644 194.36670 ... FITS       Y        9.0\n",
       "0010420701 2002-10-08       Abell 1644 194.36670 ... FITS       Y        9.0\n",
       "0010620101 2003-01-05        V1309 Ori  78.92250 ... FITS       Y        9.0\n",
       "0011420101 2002-09-19   NGC 2264 north 100.18043 ... FITS       Y        9.0\n",
       "0011420201 2003-05-10   NGC 2264 south 100.27291 ... FITS       Y        9.0\n",
       "0011430201 2003-07-04             CTA1   1.75833 ... FITS       Y        9.0"
      ]
     },
     "execution_count": 78,
     "metadata": {},
     "output_type": "execute_result"
    }
   ],
   "source": [
    "t9"
   ]
  },
  {
   "cell_type": "markdown",
   "metadata": {},
   "source": [
    "\n",
    "<section class=\"challenge panel panel-success\">\n",
    "<div class=\"panel-heading\">\n",
    "<h2><span class=\"fa fa-pencil\"></span> Challenge</h2>\n",
    "</div>\n",
    "\n",
    "\n",
    "<div class=\"panel-body\">\n",
    "\n",
    "<p>Using the <code>t7</code> (2MASS) table above:</p>\n",
    "<ol>\n",
    "<li>\n",
    "<p>Make a plot that shows <code>j_m</code>-<code>h_m</code> on the x-axis, and <code>h_m</code>-<code>k_m</code> on the y-axis</p>\n",
    "</li>\n",
    "<li>\n",
    "<p>Make a new table that contains the subset of rows where the <code>j_snr</code>, <code>h_snr</code>, and <code>k_snr</code> columns, which give the signal-to-noise-ratio in the J, H, and K band, are greater than 10, and try and show these points in red in the plot you just made.</p>\n",
    "</li>\n",
    "<li>\n",
    "<p>Make a new table (based on the full table) that contains only the RA, Dec, and the <code>j_m</code>, <code>h_m</code> and <code>k_m</code> columns, then try and write out this catalog into a format that you can read into another software package. For example, try and write out the catalog into CSV format, then read it into a spreadsheet software package (e.g. Excel, Google Docs, Numbers, OpenOffice). You may run into an issue at this point - if so, take a look at https://github.com/astropy/astropy/issues/7357 to see how to fix it.</p>\n",
    "</li>\n",
    "</ol>\n",
    "\n",
    "</div>\n",
    "\n",
    "</section>\n"
   ]
  },
  {
   "cell_type": "code",
   "execution_count": null,
   "metadata": {},
   "outputs": [],
   "source": []
  },
  {
   "cell_type": "code",
   "execution_count": null,
   "metadata": {},
   "outputs": [],
   "source": []
  },
  {
   "cell_type": "code",
   "execution_count": null,
   "metadata": {},
   "outputs": [],
   "source": []
  },
  {
   "cell_type": "code",
   "execution_count": null,
   "metadata": {},
   "outputs": [],
   "source": []
  },
  {
   "cell_type": "code",
   "execution_count": null,
   "metadata": {},
   "outputs": [],
   "source": []
  },
  {
   "cell_type": "markdown",
   "metadata": {},
   "source": [
    "<center><i>This notebook was written by <a href=\"https://aperiosoftware.com/\">Aperio Software Ltd.</a> &copy; 2019, and is licensed under a <a href=\"https://creativecommons.org/licenses/by/4.0/\">Creative Commons Attribution 4.0 International License (CC BY 4.0)</a></i></center>\n",
    "\n",
    "![cc](https://mirrors.creativecommons.org/presskit/buttons/88x31/svg/by.svg)"
   ]
  }
 ],
 "metadata": {
  "kernelspec": {
   "display_name": "Python 3",
   "language": "python",
   "name": "python3"
  },
  "language_info": {
   "codemirror_mode": {
    "name": "ipython",
    "version": 3
   },
   "file_extension": ".py",
   "mimetype": "text/x-python",
   "name": "python",
   "nbconvert_exporter": "python",
   "pygments_lexer": "ipython3",
   "version": "3.7.7"
  },
  "toc": {
   "base_numbering": 1,
   "nav_menu": {},
   "number_sections": true,
   "sideBar": true,
   "skip_h1_title": false,
   "title_cell": "Table of Contents",
   "title_sidebar": "Contents",
   "toc_cell": false,
   "toc_position": {},
   "toc_section_display": true,
   "toc_window_display": false
  }
 },
 "nbformat": 4,
 "nbformat_minor": 4
}
